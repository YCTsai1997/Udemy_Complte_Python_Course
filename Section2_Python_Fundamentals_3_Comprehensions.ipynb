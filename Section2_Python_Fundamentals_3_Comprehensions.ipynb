{
 "cells": [
  {
   "cell_type": "markdown",
   "metadata": {},
   "source": [
    "# Comprehension\n",
    "- Comprehensions allow us to create a collection from some other iterable in a very succinct way. Very often they'll save us lines and lines of code, and they help to cut down on needless boilerplate.\n",
    "- There are several different types of comprehension, but the most commonly used are list comprehensions."
   ]
  },
  {
   "cell_type": "markdown",
   "metadata": {},
   "source": [
    "## List comprehension\n",
    "- https://www.teclado.com/30-days-of-python/python-30-day-15-comprehensions\n",
    "- List comprehensions are used to create a new list from some other iterable. It might be another list, or maybe even something like a zip object.\n",
    "- two main parts of the structure: the value we want to add to the new list, and a loop definition."
   ]
  },
  {
   "cell_type": "code",
   "execution_count": 1,
   "metadata": {},
   "outputs": [
    {
     "name": "stdout",
     "output_type": "stream",
     "text": [
      "[0, 2, 4, 6, 8]\n"
     ]
    },
    {
     "data": {
      "text/plain": [
       "\"\\n1. We have to use a new name for this second list. \\nWe can't simply throw away the old names list and replace it\\n, because we're having to iterate over that list to process the values.\\n\\n2. A lot of this code feels a bit unnecessary. \\nWe're really just trying to create a new list with different values\\n, so having to create an empty list and append values feels like the language is getting in the way of doing something simple.\\n\""
      ]
     },
     "execution_count": 1,
     "metadata": {},
     "output_type": "execute_result"
    }
   ],
   "source": [
    "numbers = [0, 1, 2, 3, 4]\n",
    "doubled_numbers = []\n",
    "\n",
    "for num in numbers:\n",
    "    doubled_numbers.append(num * 2)\n",
    "\n",
    "print(doubled_numbers)\n",
    "\n",
    "\"\"\"\n",
    "1. We have to use a new name for this second list. \n",
    "We can't simply throw away the old names list and replace it\n",
    ", because we're having to iterate over that list to process the values.\n",
    "\n",
    "2. A lot of this code feels a bit unnecessary. \n",
    "We're really just trying to create a new list with different values\n",
    ", so having to create an empty list and append values feels like the language is getting in the way of doing something simple.\n",
    "\"\"\""
   ]
  },
  {
   "cell_type": "code",
   "execution_count": 2,
   "metadata": {},
   "outputs": [
    {
     "name": "stdout",
     "output_type": "stream",
     "text": [
      "[0, 2, 4, 6, 8]\n"
     ]
    }
   ],
   "source": [
    "# -- List comprehension --\n",
    "\n",
    "numbers = [0, 1, 2, 3, 4]  # list(range(5)) is better\n",
    "doubled_numbers = [num * 2 for num in numbers]\n",
    "# [num * 2 for num in range(5)] would be even better.\n",
    "\n",
    "print(doubled_numbers)"
   ]
  },
  {
   "cell_type": "code",
   "execution_count": 3,
   "metadata": {},
   "outputs": [
    {
     "name": "stdout",
     "output_type": "stream",
     "text": [
      "[0, 2, 4, 6, 8]\n"
     ]
    }
   ],
   "source": [
    "# Better yet, we can reuse names instead of assigning to doubled_numbers:\n",
    "numbers = [0, 1, 2, 3, 4]  # list(range(5)) is better\n",
    "numbers = [num * 2 for num in numbers]\n",
    "\n",
    "print(numbers)"
   ]
  },
  {
   "cell_type": "code",
   "execution_count": 10,
   "metadata": {},
   "outputs": [
    {
     "name": "stdout",
     "output_type": "stream",
     "text": [
      "My friend is 22 years old. My friend is 31 years old. My friend is 35 years old. My friend is 37 years old.\n"
     ]
    }
   ],
   "source": [
    "# -- You can add anything to the new list --\n",
    "\n",
    "friend_ages = [22, 31, 35, 37]\n",
    "age_strings = [f\"My friend is {age} years old.\" for age in friend_ages]\n",
    "\n",
    "print(' '.join(age_strings))"
   ]
  },
  {
   "cell_type": "markdown",
   "metadata": {},
   "source": [
    "-- want lower case names"
   ]
  },
  {
   "cell_type": "code",
   "execution_count": 16,
   "metadata": {},
   "outputs": [
    {
     "name": "stdout",
     "output_type": "stream",
     "text": [
      "<generator object <genexpr> at 0x7f99ba5470b0>\n"
     ]
    }
   ],
   "source": [
    "names = [\"Rolf\", \"Bob\", \"Jen\"]\n",
    "\n",
    "print( name.lower() for name in names)"
   ]
  },
  {
   "cell_type": "code",
   "execution_count": 17,
   "metadata": {},
   "outputs": [
    {
     "name": "stdout",
     "output_type": "stream",
     "text": [
      "['rolf', 'bob', 'jen']\n"
     ]
    }
   ],
   "source": [
    "# -- This includes things like --\n",
    "names = [\"Rolf\", \"Bob\", \"Jen\"]\n",
    "lower = [name.lower() for name in names] # for list comprehensions, you need to save as list, cannot print directly!\n",
    "print(lower)"
   ]
  },
  {
   "cell_type": "code",
   "execution_count": 13,
   "metadata": {},
   "outputs": [
    {
     "name": "stdout",
     "output_type": "stream",
     "text": [
      "Enter your friend name: Jen\n",
      "I know Jen!\n"
     ]
    }
   ],
   "source": [
    "# That is particularly useful for working with user input.\n",
    "# By turning everything to lowercase, it's less likely we'll miss a match.\n",
    "\n",
    "friend = input(\"Enter your friend name: \")\n",
    "friends = [\"Rolf\", \"Bob\", \"Jen\", \"Charlie\", \"Anne\"]\n",
    "friends_lower = [name.lower() for name in friends]\n",
    "\n",
    "if friend.lower() in friends_lower: # turn friend into lower case then compare! So it does not maater any sort of case\n",
    "    print(f\"I know {friend}!\")"
   ]
  },
  {
   "cell_type": "markdown",
   "metadata": {},
   "source": [
    "## Comprehensins with conditionals\n",
    "- https://blog.teclado.com/python-list-comprehensions-conditionals/\n",
    "- https://www.teclado.com/30-days-of-python/python-30-day-20-map-filter"
   ]
  },
  {
   "cell_type": "code",
   "execution_count": 15,
   "metadata": {},
   "outputs": [
    {
     "name": "stdout",
     "output_type": "stream",
     "text": [
      "[35, 27, 21]\n"
     ]
    }
   ],
   "source": [
    "# Including a conditional clause in a list comprehension is quite simple. \n",
    "    # We just have to use the if key word after the loop definition:\n",
    "ages = [22, 35, 27, 21, 20]\n",
    "odds = [n for n in ages if n % 2 == 1] # So it will iterate the for loop first then the if conditions\n",
    "print(odds)"
   ]
  },
  {
   "cell_type": "code",
   "execution_count": null,
   "metadata": {},
   "outputs": [],
   "source": [
    "# -- with strings --\n",
    "\n",
    "friends = [\"Rolf\", \"ruth\", \"charlie\", \"Jen\"]\n",
    "guests = [\"jose\", \"Bob\", \"Rolf\", \"Charlie\", \"michael\"]\n",
    "\n",
    "friends_lower = [f.lower() for f in friends]\n",
    "\n",
    "present_friends = [\n",
    "    name.capitalize() for name in guests if name.lower() in friends_lower\n",
    "]"
   ]
  },
  {
   "cell_type": "code",
   "execution_count": null,
   "metadata": {},
   "outputs": [],
   "source": [
    "# -- nested list comprehensions --\n",
    "# Don't do this, because it's almost completely unreadable.\n",
    "# Splitting things out into variables is better.\n",
    "\n",
    "friends = [\"Rolf\", \"ruth\", \"charlie\", \"Jen\"]\n",
    "guests = [\"jose\", \"Bob\", \"Rolf\", \"Charlie\", \"michael\"]\n",
    "\n",
    "present_friends = [\n",
    "    name.capitalize() for name in guests if name.lower() in [f.lower() for f in friends]\n",
    "]\n"
   ]
  },
  {
   "cell_type": "markdown",
   "metadata": {},
   "source": [
    "### The map function \n",
    "- map is a function that allows us to call some other function on every item in an iterable. And what are functions? They're just a means of defining some action we want to perform in a reusable way. In other words, map is a way of performing some action for every item in an iterable, just like a comprehension."
   ]
  },
  {
   "cell_type": "code",
   "execution_count": 2,
   "metadata": {},
   "outputs": [],
   "source": [
    " # Let's say I want to cube every number in a list of numbers. We can use map like so:\n",
    "\n",
    "def cube(number):\n",
    "    return number ** 3\n",
    "\n",
    "numbers = [1, 2, 3, 4, 5]\n",
    "cubed_numbers = map(cube, numbers)"
   ]
  },
  {
   "cell_type": "markdown",
   "metadata": {},
   "source": [
    "One thing we should take note of here is that we've only passed in name of the function we want map to call for us. \n",
    "We haven't called that function ourselves."
   ]
  },
  {
   "cell_type": "code",
   "execution_count": null,
   "metadata": {},
   "outputs": [],
   "source": [
    "\"\"\"\n",
    "Some of you may have tried to print cubed_numbers from the example above\n",
    "    , but perhaps you didn't get what you expected. \n",
    "Instead of a list of cubed numbers, we get something like this:\n",
    "\"\"\"\n",
    "<map object at 0x7f8a284ab3d0>\n",
    "\n",
    "\"\"\"\n",
    "This is because map objects are another lazy type, \n",
    "like the things we get back from calling zip, enumerate, or range. \n",
    "map doesn't actually bother calculating any values until we ask for them.\n",
    "\"\"\"\n",
    "\n",
    "\n",
    "\"\"\"\n",
    "This allows map to be a lot more memory efficient than the comprehensions we've looked at so far\n",
    "    , because it doesn't have to store all the values at once. \n",
    "It also may never end up calculating any values at all\n",
    "    , since it only calculates the next value when we request it. \n",
    "If we never request the values, they never get calculated!\n",
    "\"\"\""
   ]
  },
  {
   "cell_type": "code",
   "execution_count": 3,
   "metadata": {},
   "outputs": [
    {
     "name": "stdout",
     "output_type": "stream",
     "text": [
      "1\n",
      "8\n",
      "27\n",
      "64\n",
      "125\n"
     ]
    }
   ],
   "source": [
    "# So how can we get things out of a map object? Well, they're iterable, so we can iterate over the values:\n",
    "\n",
    "def cube(number):\n",
    "    return number ** 3\n",
    "\n",
    "numbers = [1, 2, 3, 4, 5]\n",
    "cubed_numbers = map(cube, numbers)\n",
    "\n",
    "for number in cubed_numbers:\n",
    "    print(number)"
   ]
  },
  {
   "cell_type": "code",
   "execution_count": 4,
   "metadata": {},
   "outputs": [
    {
     "name": "stdout",
     "output_type": "stream",
     "text": [
      "1, 8, 27, 64, 125\n"
     ]
    }
   ],
   "source": [
    " # Since they're iterable, we can also unpack them using *:\n",
    "\n",
    "def cube(number):\n",
    "    return number ** 3\n",
    "\n",
    "numbers = [1, 2, 3, 4, 5]\n",
    "cubed_numbers = map(cube, numbers)\n",
    "\n",
    "print(*cubed_numbers, sep=\", \")"
   ]
  },
  {
   "cell_type": "code",
   "execution_count": 7,
   "metadata": {},
   "outputs": [
    {
     "name": "stdout",
     "output_type": "stream",
     "text": [
      "[1, 8, 27, 64, 125]\n"
     ]
    }
   ],
   "source": [
    "# We can also convert them to a normal collection if we like:\n",
    "\n",
    "def cube(number):\n",
    "    return number ** 3\n",
    "\n",
    "numbers = [1, 2, 3, 4, 5]\n",
    "cubed_numbers = list(map(cube, numbers))\n",
    "print(cubed_numbers)"
   ]
  },
  {
   "cell_type": "markdown",
   "metadata": {},
   "source": [
    "### map with multiple iterables\n",
    "- One of the really nice things about map is that is can handle several iterables at once.\n",
    "- When we provide more than one iterable, map takes a value from each one when it calls the provided function. This means the function gets called with multiple arguments. The order of those arguments matches the order in which we passed the iterables to map."
   ]
  },
  {
   "cell_type": "code",
   "execution_count": 8,
   "metadata": {},
   "outputs": [
    {
     "name": "stdout",
     "output_type": "stream",
     "text": [
      "3, 7, 11, 15, 19\n"
     ]
    }
   ],
   "source": [
    " \"\"\"\n",
    " Let's say we have two lists of numbers: odds and evens. \n",
    " I want to add the first value in odds to the first values in evens\n",
    "     , then I want to add the second value of each collection, and so on. \n",
    "This is very easy to do with map.\n",
    " \"\"\"\n",
    "    \n",
    "def add(a, b):\n",
    "    return a + b\n",
    "\n",
    "odds = [1, 3, 5, 7, 9]\n",
    "evens = [2, 4, 6, 8, 10]\n",
    "\n",
    "totals = map(add, odds, evens)\n",
    "print(*totals, sep=\", \") "
   ]
  },
  {
   "cell_type": "markdown",
   "metadata": {},
   "source": [
    "### map with lambda expressions\n",
    "- map is frequently used for simple operations, which means it's often not worth defining a full blown function. Lambda expressions are often used instead, because they allow us to define a function inline while calling map."
   ]
  },
  {
   "cell_type": "code",
   "execution_count": 14,
   "metadata": {},
   "outputs": [
    {
     "name": "stdout",
     "output_type": "stream",
     "text": [
      "1, 8, 27, 64, 125\n"
     ]
    }
   ],
   "source": [
    "# For example, we can recreate the cube example above using a lambda expression like so:\n",
    "\n",
    "numbers = [1, 2, 3, 4, 5]\n",
    "cubed_numbers = map(lambda number: number ** 3, numbers)\n",
    "print(*cubed_numbers, sep=\", \")"
   ]
  },
  {
   "cell_type": "markdown",
   "metadata": {},
   "source": [
    "### The filter function\n",
    "- https://www.teclado.com/30-days-of-python/python-30-day-20-map-filter\n",
    "- Much like map is a functional analogue for \"normal\" comprehensions, filter performs the same role as a conditional comprehension.\n",
    "- Much like map, filter calls a function (known as a predicate) for every item in an iterable, and it discards any values for which that function returns a falsy value.\n",
    "- A predicate is a function that accepts some value as an argument and returns either True or False."
   ]
  },
  {
   "cell_type": "code",
   "execution_count": null,
   "metadata": {},
   "outputs": [],
   "source": []
  },
  {
   "cell_type": "markdown",
   "metadata": {},
   "source": [
    "## Set and dictionary comprehensions"
   ]
  },
  {
   "cell_type": "code",
   "execution_count": 18,
   "metadata": {},
   "outputs": [
    {
     "name": "stdout",
     "output_type": "stream",
     "text": [
      "{'Charlie', 'Rolf'}\n"
     ]
    }
   ],
   "source": [
    "friends = [\"Rolf\", \"ruth\", \"charlie\", \"Jen\"]\n",
    "guests = [\"jose\", \"Bob\", \"Rolf\", \"Charlie\", \"michael\"]\n",
    "\n",
    "friends_lower = {n.lower() for n in friends}\n",
    "guests_lower = {n.lower() for n in guests}\n",
    "\n",
    "present_friends = friends_lower.intersection(guests_lower)\n",
    "present_friends = {name.capitalize() for name in friends_lower & guests_lower}\n",
    "\n",
    "print(present_friends)\n",
    "\n",
    "# Transforming data for easier consumption and processing is a very common task.\n",
    "# Working with homogeneous data is really nice, but often you can't (e.g. when working with user input!)."
   ]
  },
  {
   "cell_type": "code",
   "execution_count": 19,
   "metadata": {},
   "outputs": [
    {
     "name": "stdout",
     "output_type": "stream",
     "text": [
      "{'Bob': 7, 'Jen': 15, 'Anne': 11}\n"
     ]
    }
   ],
   "source": [
    "# -- Dictionary comprehension --\n",
    "# Works just like set comprehension, but you need to do key-value pairs.\n",
    "\n",
    "friends = [\"Rolf\", \"Bob\", \"Jen\", \"Anne\"]\n",
    "time_since_seen = [3, 7, 15, 11]\n",
    "\n",
    "long_timers = {\n",
    "    friends[i]: time_since_seen[i]\n",
    "    for i in range(len(friends))\n",
    "    if time_since_seen[i] > 5\n",
    "}\n",
    "\n",
    "print(long_timers)"
   ]
  },
  {
   "cell_type": "markdown",
   "metadata": {},
   "source": [
    "## The zip function\n",
    "- https://blog.teclado.com/python-zip/\n",
    "- zip is a function allows us to combine two or more iterables into a single iterable object. As the name would suggest, it interlaces values from the different iterables, creating a collection of tuples.\n",
    "- For example, the lists [1, 2, 3] and [\"a\", \"b\", \"c\"] would yield a zip object containing (1, \"a\"), (2, \"b\"), and (3, \"c\").\n",
    "\n"
   ]
  },
  {
   "cell_type": "code",
   "execution_count": null,
   "metadata": {},
   "outputs": [],
   "source": [
    "\"\"\"\n",
    "friends = [\"Rolf\", \"Bob\", \"Jen\", \"Anne\"]\n",
    "time_since_seen = [3, 7, 15, 11]\n",
    "\n",
    "long_timers = {\n",
    "    friends[i]: time_since_seen[i]\n",
    "    for i in range(len(friends))\n",
    "    if time_since_seen[i] > 5\n",
    "}\n",
    "\n",
    "print(long_timers)\n",
    "\"\"\""
   ]
  },
  {
   "cell_type": "code",
   "execution_count": 20,
   "metadata": {},
   "outputs": [
    {
     "name": "stdout",
     "output_type": "stream",
     "text": [
      "{'Rolf': 3, 'Bob': 7, 'Jen': 15, 'Anne': 11}\n"
     ]
    }
   ],
   "source": [
    "# While that is extremely useful when we have conditionals, sometimes we\n",
    "# just want to create a dictionary out of two lists or tuples.\n",
    "# That's when `zip` comes in handy!\n",
    "\n",
    "friends = [\"Rolf\", \"Bob\", \"Jen\", \"Anne\"]\n",
    "time_since_seen = [3, 7, 15, 11]\n",
    "\n",
    "# Remember how we can turn a list of lists or tuples into a dictionary?\n",
    "# `zip(friends, time_since_seen)` returns something like [(\"Rolf\", 3), (\"Bob\", 7)...]\n",
    "# We then use `dict()` on that to get a dictionary.\n",
    "\n",
    "friends_last_seen = dict(zip(friends, time_since_seen))\n",
    "print(friends_last_seen)"
   ]
  },
  {
   "cell_type": "code",
   "execution_count": 22,
   "metadata": {},
   "outputs": [
    {
     "name": "stdout",
     "output_type": "stream",
     "text": [
      "[('Rolf', 3, 1), ('Bob', 7, 2), ('Jen', 15, 3), ('Anne', 11, 4)]\n"
     ]
    }
   ],
   "source": [
    "## If using zip function and convert to list, even the len is different it is fine.\n",
    "friends_last_seen = list(zip(friends, time_since_seen, [1, 2, 3, 4, 5]))\n",
    "print(friends_last_seen)"
   ]
  },
  {
   "cell_type": "code",
   "execution_count": 23,
   "metadata": {},
   "outputs": [
    {
     "ename": "ValueError",
     "evalue": "dictionary update sequence element #0 has length 3; 2 is required",
     "output_type": "error",
     "traceback": [
      "\u001b[0;31m---------------------------------------------------------------------------\u001b[0m",
      "\u001b[0;31mValueError\u001b[0m                                Traceback (most recent call last)",
      "\u001b[0;32m<ipython-input-23-3b88e22adf39>\u001b[0m in \u001b[0;36m<module>\u001b[0;34m\u001b[0m\n\u001b[0;32m----> 1\u001b[0;31m \u001b[0mfriends_last_seen\u001b[0m \u001b[0;34m=\u001b[0m \u001b[0mdict\u001b[0m\u001b[0;34m(\u001b[0m\u001b[0mzip\u001b[0m\u001b[0;34m(\u001b[0m\u001b[0mfriends\u001b[0m\u001b[0;34m,\u001b[0m \u001b[0mtime_since_seen\u001b[0m\u001b[0;34m,\u001b[0m \u001b[0;34m[\u001b[0m\u001b[0;36m1\u001b[0m\u001b[0;34m,\u001b[0m \u001b[0;36m2\u001b[0m\u001b[0;34m,\u001b[0m \u001b[0;36m3\u001b[0m\u001b[0;34m,\u001b[0m \u001b[0;36m4\u001b[0m\u001b[0;34m,\u001b[0m \u001b[0;36m5\u001b[0m\u001b[0;34m]\u001b[0m\u001b[0;34m)\u001b[0m\u001b[0;34m)\u001b[0m\u001b[0;34m\u001b[0m\u001b[0;34m\u001b[0m\u001b[0m\n\u001b[0m\u001b[1;32m      2\u001b[0m \u001b[0mprint\u001b[0m\u001b[0;34m(\u001b[0m\u001b[0mfriends_last_seen\u001b[0m\u001b[0;34m)\u001b[0m\u001b[0;34m\u001b[0m\u001b[0;34m\u001b[0m\u001b[0m\n",
      "\u001b[0;31mValueError\u001b[0m: dictionary update sequence element #0 has length 3; 2 is required"
     ]
    }
   ],
   "source": [
    "\n",
    "friends_last_seen = dict(zip(friends, time_since_seen, [1, 2, 3, 4, 5]))\n",
    "print(friends_last_seen)"
   ]
  },
  {
   "cell_type": "markdown",
   "metadata": {},
   "source": [
    "## The zip_longest function\n",
    "- https://blog.teclado.com/python-zip_longest/\n",
    "- zip_longest lives in the itertools module. itertools contains all kinds of useful functions revolving around iterative operations.\n",
    "- Well, when we use zip, zip will stop combining our iterables as soon as one of them runs out of elements. If the other iterables are longer, we just throw those excess items away. Take a look at this example:"
   ]
  },
  {
   "cell_type": "code",
   "execution_count": 24,
   "metadata": {},
   "outputs": [
    {
     "name": "stdout",
     "output_type": "stream",
     "text": [
      "[(1, 1), (2, 2)]\n"
     ]
    }
   ],
   "source": [
    "l_1 = [1, 2, 3]\n",
    "l_2 = [1, 2]\n",
    "\n",
    "combinated = list(zip(l_1, l_2))\n",
    "\n",
    "print(combinated)"
   ]
  },
  {
   "cell_type": "code",
   "execution_count": 25,
   "metadata": {},
   "outputs": [
    {
     "name": "stdout",
     "output_type": "stream",
     "text": [
      "[(1, 1), (2, 2), (3, '_')]\n"
     ]
    }
   ],
   "source": [
    "from itertools import zip_longest\n",
    "\n",
    "l_1 = [1, 2, 3]\n",
    "l_2 = [1, 2]\n",
    "\n",
    "combinated = list(zip_longest(l_1, l_2, fillvalue=\"_\"))\n",
    "\n",
    "print(combinated)"
   ]
  },
  {
   "cell_type": "markdown",
   "metadata": {},
   "source": [
    "## enumerate function\n",
    "\n",
    "-https://blog.teclado.com/python-enumerate/\n",
    "- Python's enumerate function is an awesome tool that allows us to create a counter alongside values we're iterating over: as part of a loop, for example.\n",
    "- enumerate takes an iterable type as its first positional argument, such as a list, a string, or a set, and returns an enumerate object containing a number of tuples: one for each item in the iterable. Each tuple contains an integer counter, and a value from the iterable.\n",
    "- enumerate also takes an optional additional parameter called start, which can be provided as either a keyword or positional argument. If no start value is provided, enumerate begins counting from zero, making it a perfect tool for tracking the index of each item."
   ]
  },
  {
   "cell_type": "code",
   "execution_count": 26,
   "metadata": {},
   "outputs": [
    {
     "name": "stdout",
     "output_type": "stream",
     "text": [
      "1 Rolf\n",
      "2 John\n",
      "3 Anna\n"
     ]
    }
   ],
   "source": [
    "# The most common place to find enumerate being used is within something like a for loop\n",
    "    # , with the tuples inside the enumerate object destructured into two separate loop variables.\n",
    "\n",
    "friends = [\"Rolf\", \"John\", \"Anna\"]\n",
    "\n",
    "for counter, friend in enumerate(friends, start=1): # we can use start argument for first index value\n",
    "    print(counter, friend)"
   ]
  },
  {
   "cell_type": "code",
   "execution_count": 29,
   "metadata": {},
   "outputs": [
    {
     "name": "stdout",
     "output_type": "stream",
     "text": [
      "{0: 'Rolf', 1: 'John', 2: 'Anna'}\n",
      "[(0, 'Rolf'), (1, 'John'), (2, 'Anna')]\n"
     ]
    }
   ],
   "source": [
    "# The use of enumerate is not limited to just for loops, however; \n",
    "    # we can also make use of enumerate as part of a list comprehension, \n",
    "    # for example, or even passed in as an argument to dict.\n",
    "\n",
    "friends = [\"Rolf\", \"John\", \"Anna\"]\n",
    "friends_dict = dict(enumerate(friends))\n",
    "print(friends_dict)\n",
    "\n",
    "friends_list = list(enumerate(friends))\n",
    "print(friends_list)"
   ]
  },
  {
   "cell_type": "markdown",
   "metadata": {},
   "source": [
    "## Coding exercise 7"
   ]
  },
  {
   "cell_type": "code",
   "execution_count": 30,
   "metadata": {},
   "outputs": [
    {
     "name": "stdout",
     "output_type": "stream",
     "text": [
      "{4, 9, 10, 11, 17, 18}\n",
      "Rolf won 10000.\n"
     ]
    }
   ],
   "source": [
    "import random\n",
    "\n",
    "# This line creates a set with 6 random numbers\n",
    "lottery_numbers = set(random.sample(range(22), 6))\n",
    "print(lottery_numbers)\n",
    "# Here are your players; find out who has the most numbers matching lottery_numbers!\n",
    "players = [\n",
    "    {'name': 'Rolf', 'numbers': {1, 3, 5, 7, 9, 11}},\n",
    "    {'name': 'Charlie', 'numbers': {2, 7, 9, 22, 10, 5}},\n",
    "    {'name': 'Anna', 'numbers': {13, 14, 15, 16, 17, 18}},\n",
    "    {'name': 'Jen', 'numbers': {19, 20, 12, 7, 3, 5}}\n",
    "]\n",
    "\n",
    "# Then, print out a line such as \"Jen won 1000.\".\n",
    "# The winnings are calculated with the formula:\n",
    "# 100 ** len(numbers_matched)\n",
    "\n",
    "top_player = players[0]\n",
    "\n",
    "for player in players:\n",
    "    match_num = len(lottery_numbers & set(player['numbers']))\n",
    "    if match_num > len(lottery_numbers & set(top_player[\"numbers\"])):\n",
    "        top_player = player\n",
    "    \n",
    "winning = 100 ** len(lottery_numbers & set(top_player[\"numbers\"]))\n",
    "                     \n",
    "print(f\"{top_player['name']} won {winning}.\")\n",
    "    "
   ]
  }
 ],
 "metadata": {
  "kernelspec": {
   "display_name": "Python 3",
   "language": "python",
   "name": "python3"
  },
  "language_info": {
   "codemirror_mode": {
    "name": "ipython",
    "version": 3
   },
   "file_extension": ".py",
   "mimetype": "text/x-python",
   "name": "python",
   "nbconvert_exporter": "python",
   "pygments_lexer": "ipython3",
   "version": "3.8.8"
  }
 },
 "nbformat": 4,
 "nbformat_minor": 4
}
