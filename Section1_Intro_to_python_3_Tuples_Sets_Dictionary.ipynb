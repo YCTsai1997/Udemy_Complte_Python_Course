{
 "cells": [
  {
   "cell_type": "markdown",
   "metadata": {},
   "source": [
    "## Tuples"
   ]
  },
  {
   "cell_type": "markdown",
   "metadata": {},
   "source": [
    "- Tuples are useful for when you want to keep it unchanged forever.\n",
    "- Most of the time I'd recommend using tuples over lists, and only use lists when you specifically want to allow changes."
   ]
  },
  {
   "cell_type": "code",
   "execution_count": 1,
   "metadata": {},
   "outputs": [],
   "source": [
    "# -- Defining tuples --\n",
    "\n",
    "short_tuple = \"Rolf\", \"Bob\"\n",
    "a_bit_clearer = (\"Rolf\", \"Bob\")\n",
    "tuple_in_list = [(\"Rolf\", \"Bob\")]\n",
    "not_a_tuple = \"Rolf\" # This is just a string\n",
    "This_is_tuple = \"Rolf\", \n",
    "\n",
    "Not_a_tuple_2 = (15) # When you put a number between brackets, \n",
    "    # Python assumes you are using this for a mathematical operation instead of creating a tuple.\n",
    "    # if you want to create a tuple, then you will need to write Not_a_tuple_2 = (15,) "
   ]
  },
  {
   "cell_type": "code",
   "execution_count": 2,
   "metadata": {},
   "outputs": [
    {
     "ename": "AttributeError",
     "evalue": "'tuple' object has no attribute 'append'",
     "output_type": "error",
     "traceback": [
      "\u001b[0;31m---------------------------------------------------------------------------\u001b[0m",
      "\u001b[0;31mAttributeError\u001b[0m                            Traceback (most recent call last)",
      "\u001b[0;32m<ipython-input-2-c381f387cefc>\u001b[0m in \u001b[0;36m<module>\u001b[0;34m\u001b[0m\n\u001b[1;32m      2\u001b[0m \u001b[0;34m\u001b[0m\u001b[0m\n\u001b[1;32m      3\u001b[0m \u001b[0mfriends\u001b[0m \u001b[0;34m=\u001b[0m \u001b[0;34m(\u001b[0m\u001b[0;34m\"Rolf\"\u001b[0m\u001b[0;34m,\u001b[0m \u001b[0;34m\"Bob\"\u001b[0m\u001b[0;34m,\u001b[0m \u001b[0;34m\"Anne\"\u001b[0m\u001b[0;34m)\u001b[0m\u001b[0;34m\u001b[0m\u001b[0;34m\u001b[0m\u001b[0m\n\u001b[0;32m----> 4\u001b[0;31m \u001b[0mfriends\u001b[0m\u001b[0;34m.\u001b[0m\u001b[0mappend\u001b[0m\u001b[0;34m(\u001b[0m\u001b[0;34m\"Jen\"\u001b[0m\u001b[0;34m)\u001b[0m  \u001b[0;31m# ERROR!\u001b[0m\u001b[0;34m\u001b[0m\u001b[0;34m\u001b[0m\u001b[0m\n\u001b[0m\u001b[1;32m      5\u001b[0m \u001b[0;34m\u001b[0m\u001b[0m\n\u001b[1;32m      6\u001b[0m \u001b[0mprint\u001b[0m\u001b[0;34m(\u001b[0m\u001b[0mfriends\u001b[0m\u001b[0;34m)\u001b[0m  \u001b[0;31m# [\"Rolf\", \"Bob\", \"Anne\", \"Jen\"]\u001b[0m\u001b[0;34m\u001b[0m\u001b[0;34m\u001b[0m\u001b[0m\n",
      "\u001b[0;31mAttributeError\u001b[0m: 'tuple' object has no attribute 'append'"
     ]
    }
   ],
   "source": [
    "# -- Adding to a tuple --\n",
    "\n",
    "friends = (\"Rolf\", \"Bob\", \"Anne\")\n",
    "friends.append(\"Jen\")  # ERROR!\n",
    "\n",
    "print(friends)  # [\"Rolf\", \"Bob\", \"Anne\", \"Jen\"]"
   ]
  },
  {
   "cell_type": "markdown",
   "metadata": {},
   "source": [
    "You can insert elements to tuple by adding tuples together"
   ]
  },
  {
   "cell_type": "code",
   "execution_count": 5,
   "metadata": {},
   "outputs": [
    {
     "name": "stdout",
     "output_type": "stream",
     "text": [
      "('Rolf', 'Bob', 'Anne', 'Jen')\n"
     ]
    }
   ],
   "source": [
    "friends = (\"Rolf\", \"Bob\", \"Anne\")\n",
    "friends = friends + (\"Jen\",) # Need to have comma in the end to indicate tuple\n",
    "print(friends)"
   ]
  },
  {
   "cell_type": "code",
   "execution_count": 3,
   "metadata": {},
   "outputs": [
    {
     "ename": "AttributeError",
     "evalue": "'tuple' object has no attribute 'remove'",
     "output_type": "error",
     "traceback": [
      "\u001b[0;31m---------------------------------------------------------------------------\u001b[0m",
      "\u001b[0;31mAttributeError\u001b[0m                            Traceback (most recent call last)",
      "\u001b[0;32m<ipython-input-3-d4b9c7327c0d>\u001b[0m in \u001b[0;36m<module>\u001b[0;34m\u001b[0m\n\u001b[1;32m      1\u001b[0m \u001b[0;31m# -- Removing from a tuple --\u001b[0m\u001b[0;34m\u001b[0m\u001b[0;34m\u001b[0m\u001b[0;34m\u001b[0m\u001b[0m\n\u001b[1;32m      2\u001b[0m \u001b[0;34m\u001b[0m\u001b[0m\n\u001b[0;32m----> 3\u001b[0;31m \u001b[0mfriends\u001b[0m\u001b[0;34m.\u001b[0m\u001b[0mremove\u001b[0m\u001b[0;34m(\u001b[0m\u001b[0;34m\"Bob\"\u001b[0m\u001b[0;34m)\u001b[0m  \u001b[0;31m# ERROR!\u001b[0m\u001b[0;34m\u001b[0m\u001b[0;34m\u001b[0m\u001b[0m\n\u001b[0m\u001b[1;32m      4\u001b[0m \u001b[0;34m\u001b[0m\u001b[0m\n\u001b[1;32m      5\u001b[0m \u001b[0mprint\u001b[0m\u001b[0;34m(\u001b[0m\u001b[0mfriends\u001b[0m\u001b[0;34m)\u001b[0m  \u001b[0;31m# [\"Rolf\", \"Anne\", \"Jen\"]\u001b[0m\u001b[0;34m\u001b[0m\u001b[0;34m\u001b[0m\u001b[0m\n",
      "\u001b[0;31mAttributeError\u001b[0m: 'tuple' object has no attribute 'remove'"
     ]
    }
   ],
   "source": [
    "# -- Removing from a tuple --\n",
    "\n",
    "friends.remove(\"Bob\")  # ERROR!\n",
    "\n",
    "print(friends)  # [\"Rolf\", \"Anne\", \"Jen\"]"
   ]
  },
  {
   "cell_type": "markdown",
   "metadata": {},
   "source": [
    "## Sets\n",
    "- Sets are extremely useful for comparing collections of values, and are highly optimised for this kind of operation.\n",
    "- Sets are a little different to the collections we've looked at so far, in that they're not reliably ordered. If we create a list or a tuple and print it, we know that the items will show up in the order we defined them. This isn't the case for a set.\n",
    "- Sets can also only contain unique elements, much like we saw with dictionary keys. In fact, we can really think of a set as a dictionary which only contains keys.\n",
    "- Sets come with a number of very useful operations for comparing the members of collections. They're therefore very useful for filtering values, and it's also extremely efficient to perform these kinds of membership tests for sets."
   ]
  },
  {
   "cell_type": "code",
   "execution_count": 6,
   "metadata": {},
   "outputs": [],
   "source": [
    "# -- Defining sets --\n",
    "\n",
    "art_friends = {\"Rolf\", \"Anne\"}\n",
    "science_friends = {\"Jen\", \"Charlie\"}"
   ]
  },
  {
   "cell_type": "code",
   "execution_count": 8,
   "metadata": {},
   "outputs": [
    {
     "name": "stdout",
     "output_type": "stream",
     "text": [
      "{'Jen', 'Anne', 'Rolf'}\n"
     ]
    }
   ],
   "source": [
    "# -- Adding to a set --\n",
    "\n",
    "## We don't \"append\" to sets because appending means \"adding at the end\". \n",
    "    ## Since sets don't have order, there is no \"end\" to add to.\n",
    "\n",
    "art_friends.add(\"Jen\")\n",
    "\n",
    "print(art_friends)"
   ]
  },
  {
   "cell_type": "code",
   "execution_count": 9,
   "metadata": {},
   "outputs": [
    {
     "name": "stdout",
     "output_type": "stream",
     "text": [
      "{'Jen', 'Anne', 'Rolf'}\n"
     ]
    }
   ],
   "source": [
    "# -- No duplicate items --\n",
    "\n",
    "art_friends.add(\"Jen\")\n",
    "\n",
    "print(art_friends)  # Same as before, \"Jen\" was not added twice"
   ]
  },
  {
   "cell_type": "code",
   "execution_count": 10,
   "metadata": {},
   "outputs": [
    {
     "name": "stdout",
     "output_type": "stream",
     "text": [
      "{'Jen'}\n"
     ]
    }
   ],
   "source": [
    "# -- Removing from a set --\n",
    "\n",
    "science_friends.remove(\"Charlie\")\n",
    "\n",
    "print(science_friends)"
   ]
  },
  {
   "cell_type": "markdown",
   "metadata": {},
   "source": [
    "### Advanced set operations\n",
    "- https://blog.teclado.com/python-set-operators/\n",
    "- https://blog.teclado.com/python-symmetric-difference/"
   ]
  },
  {
   "cell_type": "code",
   "execution_count": 14,
   "metadata": {},
   "outputs": [],
   "source": [
    "art_friends = {\"Rolf\", \"Anne\", \"Jen\"}\n",
    "science_friends = {\"Jen\", \"Charlie\"}"
   ]
  },
  {
   "cell_type": "code",
   "execution_count": 19,
   "metadata": {},
   "outputs": [
    {
     "name": "stdout",
     "output_type": "stream",
     "text": [
      "{'Anne', 'Rolf'}\n",
      "{'Charlie'}\n",
      "{'Anne', 'Rolf'}\n",
      "{'Charlie'}\n"
     ]
    }
   ],
   "source": [
    "# -- Difference --\n",
    "# Gives you members that are in one set but not the other.\n",
    "\n",
    "art_but_not_science = art_friends.difference(science_friends)\n",
    "science_but_not_art = science_friends.difference(art_friends)\n",
    "\n",
    "print(art_but_not_science)\n",
    "print(science_but_not_art)\n",
    "\n",
    "# Method 2 \n",
    "art_but_not_science_2 = art_friends - science_friends\n",
    "science_but_not_art_2 = science_friends - art_friends\n",
    "\n",
    "print(art_but_not_science_2)\n",
    "print(science_but_not_art_2)"
   ]
  },
  {
   "cell_type": "code",
   "execution_count": null,
   "metadata": {},
   "outputs": [],
   "source": [
    "# -- Symmetric difference --\n",
    "# Gives you those members that aren't in both sets\n",
    "# Order doesn't matter with symmetric_difference\n",
    "\n",
    "not_in_both = art_friends.symmetric_difference(science_friends)\n",
    "\n",
    "print(not_in_both)"
   ]
  },
  {
   "cell_type": "markdown",
   "metadata": {},
   "source": [
    "For sets s1 and s2, the symmetric difference of s1 and s2 is equivalent to the union of s1.difference(s2) and s2.difference(s1)."
   ]
  },
  {
   "cell_type": "code",
   "execution_count": 13,
   "metadata": {},
   "outputs": [
    {
     "name": "stdout",
     "output_type": "stream",
     "text": [
      "{1, 2, 5, 6, 7, 9}\n",
      "{1, 2, 5, 6, 7, 9}\n"
     ]
    }
   ],
   "source": [
    "s1 = {1, 3, 4, 5, 7, 8}\n",
    "s2 = {2, 3, 4, 6, 8, 9}\n",
    "\n",
    "s3 = s1.symmetric_difference(s2)\n",
    "s4 = s1.difference(s2) | s2.difference(s1)\n",
    "\n",
    "print(s3)  # {1, 2, 5, 6, 7, 9}\n",
    "print(s4)  # {1, 2, 5, 6, 7, 9}"
   ]
  },
  {
   "cell_type": "code",
   "execution_count": 20,
   "metadata": {},
   "outputs": [
    {
     "name": "stdout",
     "output_type": "stream",
     "text": [
      "{'Jen'}\n",
      "{'Jen'}\n"
     ]
    }
   ],
   "source": [
    "# -- Intersection --\n",
    "# Gives you members of both sets\n",
    "\n",
    "art_and_science = art_friends.intersection(science_friends)\n",
    "print(art_and_science)\n",
    "\n",
    "# Method 2 \n",
    "art_and_science_2 = art_friends & science_friends\n",
    "print(art_and_science_2)"
   ]
  },
  {
   "cell_type": "code",
   "execution_count": 18,
   "metadata": {},
   "outputs": [
    {
     "name": "stdout",
     "output_type": "stream",
     "text": [
      "{'Charlie', 'Rolf', 'Jen', 'Anne'}\n",
      "{'Charlie', 'Rolf', 'Jen', 'Anne'}\n"
     ]
    }
   ],
   "source": [
    "# -- Union --\n",
    "# Gives you all members of all sets, but of course without duplicates\n",
    "\n",
    "all_friends = art_friends.union(science_friends)\n",
    "print(all_friends)\n",
    "\n",
    "# Method 2 \n",
    "all_friends_2 = art_friends | science_friends\n",
    "print(all_friends_2)"
   ]
  },
  {
   "cell_type": "code",
   "execution_count": 12,
   "metadata": {},
   "outputs": [
    {
     "name": "stdout",
     "output_type": "stream",
     "text": [
      "{1, 2, 3, 4, 5, 6, 7, 8, 9}\n"
     ]
    }
   ],
   "source": [
    "# We can also chain the operations together, for example to find the union of three sets:\n",
    "\n",
    "set_1 = {1, 2, 3, 4, 5}\n",
    "set_2 = {3, 4, 5, 6, 7}\n",
    "set_3 = {5, 6, 7, 8, 9}\n",
    "\n",
    "# Combine set_1 and set_2 and set_3\n",
    "print(set_1 | set_2 | set_3)"
   ]
  },
  {
   "cell_type": "markdown",
   "metadata": {},
   "source": [
    "One thing to note is that when using these set operators, rather than the method syntax, both operands must be sets. When using the method syntax, the argument can be any iterable type."
   ]
  },
  {
   "cell_type": "markdown",
   "metadata": {},
   "source": [
    "### Coding exercise 3: Nearby friends \n",
    "\n",
    "We have provided you with two variables: nearby_people, user_friends. \n",
    "- In this exercise, ask the user for the name of a friend. Add this name to the user_friends set provided.\n",
    "- Finally, print out a set that contains only the name of the friend if the friends is in the nearby_people set.\n",
    "- You will want to calculate the intersection between two sets, and print the result out. "
   ]
  },
  {
   "cell_type": "code",
   "execution_count": 21,
   "metadata": {},
   "outputs": [],
   "source": [
    "nearby_people = {'Rolf', 'Jen', 'Anna'}\n",
    "user_friends = set()  # This is an empty set, like {}"
   ]
  },
  {
   "cell_type": "code",
   "execution_count": 24,
   "metadata": {},
   "outputs": [
    {
     "name": "stdout",
     "output_type": "stream",
     "text": [
      "What's your name: Yi\n",
      "{'Yi'}\n"
     ]
    }
   ],
   "source": [
    "# Ask the user for the name of a friend\n",
    "user_friend_name = input(\"What's your name: \")\n",
    "\n",
    "# Add the name to the empty set\n",
    "user_friends.add(user_friend_name)\n",
    "\n",
    "# Print out the intersection between both sets. This gives us a set with those friends that are nearby.\n",
    "print(nearby_people & user_friends)"
   ]
  },
  {
   "cell_type": "markdown",
   "metadata": {},
   "source": [
    "## Dictionary \n",
    "\n",
    "https://www.teclado.com/30-days-of-python/python-30-day-10-dictionaries\n",
    "\n",
    "- Dictionaries are Python's version of something called an associative array, and it works a little differently to the things like lists, strings, and tuples.\n",
    "- Dictionary is one of sequence types. For something to be a sequence, it must have ordered indices which start from 0, and which increment in steps of 1. It must also be possible to find the length of the collection with len.\n",
    "- A dictionary can have many keys, but each key must be unique inside that dictionary, and each key must have a single value. That value can, however, be a collection, including another dictionary.\n"
   ]
  },
  {
   "cell_type": "markdown",
   "metadata": {},
   "source": [
    "When we want to create a dictionary with content, we have to work in pairs of keys and values. A dictionary can't have a key without a value, and we can't have a value which isn't associated with a key."
   ]
  },
  {
   "cell_type": "code",
   "execution_count": 27,
   "metadata": {},
   "outputs": [
    {
     "data": {
      "text/plain": [
       "{'name': 'John Smith', 'grades': [88, 76, 92, 85, 69]}"
      ]
     },
     "execution_count": 27,
     "metadata": {},
     "output_type": "execute_result"
    }
   ],
   "source": [
    "# For example, let's add a list of grades for this student alongside their name:\n",
    "student = {\n",
    "    \"name\": \"John Smith\",\n",
    "    \"grades\": [88, 76, 92, 85, 69]\n",
    "}\n",
    "student"
   ]
  },
  {
   "cell_type": "code",
   "execution_count": 29,
   "metadata": {},
   "outputs": [
    {
     "name": "stdout",
     "output_type": "stream",
     "text": [
      "24\n"
     ]
    }
   ],
   "source": [
    "friend_ages = {\"Rolf\": 24, \"Adam\": 30, \"Anne\": 27}\n",
    "\n",
    "print(friend_ages[\"Rolf\"])  # 24\n",
    "# friend_ages[\"Bob\"]  ERROR"
   ]
  },
  {
   "cell_type": "code",
   "execution_count": 33,
   "metadata": {},
   "outputs": [
    {
     "name": "stdout",
     "output_type": "stream",
     "text": [
      "None\n"
     ]
    }
   ],
   "source": [
    "\"\"\"\n",
    "If we're unsure if a key exists, and we don't want an exception being raised, \n",
    "we can instead use a method called get. \n",
    "If the key exists, get works exactly the same way as using a subscription expression, \n",
    "but if the key doesn't exist, it will return None instead of crashing the program.\n",
    "\"\"\"\n",
    "\n",
    "student = {\n",
    "    \"name\": \"John Smith\",\n",
    "    \"grades\": [88, 76, 92, 85, 69]\n",
    "}\n",
    "\n",
    "print(student.get(\"grade\"))"
   ]
  },
  {
   "cell_type": "code",
   "execution_count": 34,
   "metadata": {},
   "outputs": [
    {
     "name": "stdout",
     "output_type": "stream",
     "text": [
      "[]\n"
     ]
    }
   ],
   "source": [
    "\"\"\"\n",
    "If we like, we can specify a different default value by passing in a second value to get. \n",
    "For example, we can tell it we want an empty list if there isn't a \"grade\" key:\n",
    "\"\"\"\n",
    "\n",
    "student = {\n",
    "    \"name\": \"John Smith\",\n",
    "    \"grades\": [88, 76, 92, 85, 69]\n",
    "}\n",
    "\n",
    "print(student.get(\"grade\", []))"
   ]
  },
  {
   "cell_type": "markdown",
   "metadata": {},
   "source": [
    "-- What can we use as dictionary key names?\n",
    "- As we've already seen, strings are perfectly fine, but so are numbers, and even tuples. However we can't ever use a list as a key. Why not? Because a list can change.\n",
    "- Some of you may be wondering why we can use strings as keys, since it seems like we can modify stings as well. However, we never actually modify a string: we always create a new one.\n",
    "- Just now I mentioned we can use a tuple as a key, but there are some limitations here as well. This is because tuples can contain things like lists, and we can modify those inner lists."
   ]
  },
  {
   "cell_type": "code",
   "execution_count": 32,
   "metadata": {},
   "outputs": [
    {
     "name": "stdout",
     "output_type": "stream",
     "text": [
      "('John Smith', [88, 76, 92, 85, 69, 77])\n"
     ]
    }
   ],
   "source": [
    "# For example, we can do this:\n",
    "student = (\n",
    "    \"John Smith\",\n",
    "    [88, 76, 92, 85, 69]\n",
    ")\n",
    "\n",
    "# Append 77 to the list at index 1\n",
    "student[1].append(77)\n",
    "\n",
    "print(student)\n",
    "\n",
    "# We can therefore only use a tuple which doesn't contain any mutable values as keys in a dictionary."
   ]
  },
  {
   "cell_type": "markdown",
   "metadata": {},
   "source": [
    "-- Adding a new key to the dictionary --"
   ]
  },
  {
   "cell_type": "code",
   "execution_count": 30,
   "metadata": {},
   "outputs": [
    {
     "name": "stdout",
     "output_type": "stream",
     "text": [
      "{'Rolf': 24, 'Adam': 30, 'Anne': 27, 'Bob': 20}\n"
     ]
    }
   ],
   "source": [
    "friend_ages = {\n",
    "    \"Rolf\": 24, \n",
    "    \"Adam\": 30, \n",
    "    \"Anne\": 27\n",
    "}\n",
    "friend_ages[\"Bob\"] = 20\n",
    "print(friend_ages)  # {'Rolf': 24, 'Adam': 30, 'Anne': 27, 'Bob': 20}"
   ]
  },
  {
   "cell_type": "markdown",
   "metadata": {},
   "source": [
    "-- We can also extend a dictionary using an existing dictionary and the update method."
   ]
  },
  {
   "cell_type": "code",
   "execution_count": 36,
   "metadata": {},
   "outputs": [
    {
     "name": "stdout",
     "output_type": "stream",
     "text": [
      "{'title': 'Avengers: Endgame', 'directors': ['Anthony Russo', 'Joe Russo'], 'year': 2019, 'runtime': 181, 'budget': '$356 million', 'earnings': '$2.798 billion', 'producer': 'Kevin Feige'}\n"
     ]
    }
   ],
   "source": [
    "movie = {\n",
    "    \"title\": \"Avengers: Endgame\",\n",
    "    \"directors\": [\"Anthony Russo\", \"Joe Russo\"],\n",
    "    \"year\": 2019\n",
    "}\n",
    "\n",
    "meta_info = {\n",
    "    \"runtime\": 181,\n",
    "    \"budget\": \"$356 million\",\n",
    "    \"earnings\": \"$2.798 billion\",\n",
    "    \"producer\": \"Kevin Feige\"\n",
    "}\n",
    "\n",
    "movie.update(meta_info)\n",
    "print(movie)"
   ]
  },
  {
   "cell_type": "markdown",
   "metadata": {},
   "source": [
    "-- Modifying existing items in a dictionary --"
   ]
  },
  {
   "cell_type": "code",
   "execution_count": 31,
   "metadata": {},
   "outputs": [
    {
     "name": "stdout",
     "output_type": "stream",
     "text": [
      "{'Rolf': 25, 'Adam': 30, 'Anne': 27, 'Bob': 20}\n"
     ]
    }
   ],
   "source": [
    "friend_ages = {\n",
    "    \"Rolf\": 24, \n",
    "    \"Adam\": 30, \n",
    "    \"Anne\": 27\n",
    "}\n",
    "friend_ages[\"Rolf\"] = 25\n",
    "\n",
    "print(friend_ages)  # {'Rolf': 25, 'Adam': 30, 'Anne': 27, 'Bob': 20}\n",
    "\n",
    "\"\"\"\n",
    "We can also use the update method to either replace many values at once, \n",
    "or perform some combination of addition and replacement. \n",
    "Any keys which already exist will have their values replaced, while new keys will be created like we saw before.\n",
    "\"\"\""
   ]
  },
  {
   "cell_type": "markdown",
   "metadata": {},
   "source": [
    "-- Deleting items from a dictionary --"
   ]
  },
  {
   "cell_type": "code",
   "execution_count": 37,
   "metadata": {},
   "outputs": [
    {
     "data": {
      "text/plain": [
       "{'title': 'Avengers: Endgame',\n",
       " 'directors': ['Anthony Russo', 'Joe Russo'],\n",
       " 'year': 2019}"
      ]
     },
     "execution_count": 37,
     "metadata": {},
     "output_type": "execute_result"
    }
   ],
   "source": [
    "movie = {\n",
    "    \"title\": \"Avengers: Endgame\",\n",
    "    \"directors\": [\"Anthony Russo\", \"Joe Russo\"],\n",
    "    \"year\": 2019,\n",
    "    \"runtime\": 181\n",
    "}\n",
    "\n",
    "del movie[\"runtime\"]\n",
    "\n",
    "movie"
   ]
  },
  {
   "cell_type": "markdown",
   "metadata": {},
   "source": [
    "-- Lists of dictionaries --\n",
    "- Imagine you have a program that stores information about your friends.\n",
    "- This is the perfect place to use a list of dictionaries.\n",
    "- That way you can store multiple pieces of data about each friend, all in a single variable."
   ]
  },
  {
   "cell_type": "code",
   "execution_count": 48,
   "metadata": {},
   "outputs": [
    {
     "name": "stdout",
     "output_type": "stream",
     "text": [
      "Rolf Smith\n"
     ]
    }
   ],
   "source": [
    "friends = [\n",
    "    {\"name\": \"Rolf Smith\", \"age\": 24},\n",
    "    {\"name\": \"Adam Wool\", \"age\": 30},\n",
    "    {\"name\": \"Anne Pun\", \"age\": 27},\n",
    "]\n",
    "\n",
    "# This allows you to acess name by order \n",
    "print(friends[0][\"name\"])"
   ]
  },
  {
   "cell_type": "code",
   "execution_count": 49,
   "metadata": {},
   "outputs": [
    {
     "name": "stdout",
     "output_type": "stream",
     "text": [
      "Rolf Smith\n"
     ]
    }
   ],
   "source": [
    "friends = (\n",
    "    {\"name\": \"Rolf Smith\", \"age\": 24},\n",
    "    {\"name\": \"Adam Wool\", \"age\": 30},\n",
    "    {\"name\": \"Anne Pun\", \"age\": 27},\n",
    ")\n",
    "\n",
    "# This allows you to acess name by order \n",
    "print(friends[0][\"name\"])"
   ]
  },
  {
   "cell_type": "code",
   "execution_count": 47,
   "metadata": {},
   "outputs": [
    {
     "name": "stdout",
     "output_type": "stream",
     "text": [
      "{'Rolf': 24, 'Adam': 30, 'Anne': 27}\n"
     ]
    }
   ],
   "source": [
    "# You can turn a list of lists or tuples into a dictionary:\n",
    "\n",
    "friends = [(\"Rolf\", 24), (\"Adam\", 30), (\"Anne\", 27)]\n",
    "friend_ages = dict(friends)\n",
    "print(friend_ages)"
   ]
  },
  {
   "cell_type": "markdown",
   "metadata": {},
   "source": [
    "-- Iterating over dictionaries --"
   ]
  },
  {
   "cell_type": "code",
   "execution_count": 38,
   "metadata": {},
   "outputs": [
    {
     "name": "stdout",
     "output_type": "stream",
     "text": [
      "title\n",
      "directors\n",
      "year\n"
     ]
    }
   ],
   "source": [
    "movie = {\n",
    "    \"title\": \"Avengers: Endgame\",\n",
    "    \"directors\": [\"Anthony Russo\", \"Joe Russo\"],\n",
    "    \"year\": 2019\n",
    "}\n",
    "\n",
    "for attribute in movie:\n",
    "    print(attribute)"
   ]
  },
  {
   "cell_type": "code",
   "execution_count": 39,
   "metadata": {},
   "outputs": [
    {
     "name": "stdout",
     "output_type": "stream",
     "text": [
      "Avengers: Endgame\n",
      "['Anthony Russo', 'Joe Russo']\n",
      "2019\n"
     ]
    }
   ],
   "source": [
    "movie = {\n",
    "    \"title\": \"Avengers: Endgame\",\n",
    "    \"directors\": [\"Anthony Russo\", \"Joe Russo\"],\n",
    "    \"year\": 2019\n",
    "}\n",
    "\n",
    "for key in movie:\n",
    "    print(movie[key])"
   ]
  },
  {
   "cell_type": "code",
   "execution_count": 40,
   "metadata": {},
   "outputs": [
    {
     "name": "stdout",
     "output_type": "stream",
     "text": [
      "Avengers: Endgame\n",
      "['Anthony Russo', 'Joe Russo']\n",
      "2019\n"
     ]
    }
   ],
   "source": [
    "movie = {\n",
    "    \"title\": \"Avengers: Endgame\",\n",
    "    \"directors\": [\"Anthony Russo\", \"Joe Russo\"],\n",
    "    \"year\": 2019\n",
    "}\n",
    "\n",
    "for value in movie.values():\n",
    "    print(value)"
   ]
  },
  {
   "cell_type": "code",
   "execution_count": 41,
   "metadata": {},
   "outputs": [
    {
     "name": "stdout",
     "output_type": "stream",
     "text": [
      "title: Avengers: Endgame\n",
      "directors: ['Anthony Russo', 'Joe Russo']\n",
      "year: 2019\n"
     ]
    }
   ],
   "source": [
    "movie = {\n",
    "    \"title\": \"Avengers: Endgame\",\n",
    "    \"directors\": [\"Anthony Russo\", \"Joe Russo\"],\n",
    "    \"year\": 2019\n",
    "}\n",
    "\n",
    "for key in movie:\n",
    "    print(f\"{key}: {movie[key]}\")"
   ]
  },
  {
   "cell_type": "code",
   "execution_count": 42,
   "metadata": {},
   "outputs": [
    {
     "name": "stdout",
     "output_type": "stream",
     "text": [
      "title: Avengers: Endgame\n",
      "directors: ['Anthony Russo', 'Joe Russo']\n",
      "year: 2019\n"
     ]
    }
   ],
   "source": [
    "movie = {\n",
    "    \"title\": \"Avengers: Endgame\",\n",
    "    \"directors\": [\"Anthony Russo\", \"Joe Russo\"],\n",
    "    \"year\": 2019\n",
    "}\n",
    "\n",
    "for key, value in movie.items():\n",
    "    print(f\"{key}: {value}\")"
   ]
  },
  {
   "cell_type": "markdown",
   "metadata": {},
   "source": [
    " ## Length and sum"
   ]
  },
  {
   "cell_type": "code",
   "execution_count": 3,
   "metadata": {},
   "outputs": [
    {
     "name": "stdout",
     "output_type": "stream",
     "text": [
      "sum is 345\n"
     ]
    }
   ],
   "source": [
    "# Imagine you're wanting a variable that stores the grades attained by a student in their class.\n",
    "# Which of these is probably not going to be a good data structure?\n",
    "\n",
    "grades = [80, 75, 90, 100]\n",
    "grades = (80, 75, 90, 100)  # If we are not adding new things, then tuple will be the best choice!\n",
    "grades = {80, 75, 90, 100}  # This one, because of no duplicates\n",
    "\n",
    "\n",
    "total = sum(grades)\n",
    "length = len(grades)\n",
    "\n",
    "average = total / length\n",
    "\n",
    "print(\"sum is {}\".format(total))\n"
   ]
  },
  {
   "cell_type": "markdown",
   "metadata": {},
   "source": [
    "## Coding exercise"
   ]
  },
  {
   "cell_type": "code",
   "execution_count": null,
   "metadata": {},
   "outputs": [],
   "source": [
    "lottery_numbers = {13, 21, 22, 5, 8}\n",
    "\n",
    "\n",
    "\"\"\"\n",
    "A player looks like this:\n",
    "\n",
    "{\n",
    "    'name': 'PLAYER_NAME',\n",
    "    'numbers': {1, 2, 3, 4, 5}\n",
    "}\n",
    "\n",
    "Define a list with two players (you can come up with their names and numbers).\n",
    "\"\"\"\n",
    "\n",
    "players = []\n",
    "\n",
    "\"\"\"\n",
    "For each of the two players, print out a string like this: \"Player PLAYER_NAME got 3 numbers right.\".\n",
    "Of course, replace PLAYER_NAME by their name, \n",
    "and the 3 by the amount of numbers they matched with lottery_numbers.\n",
    "You'll have to access each player's name and numbers, \n",
    "and calculate the intersection of their numbers with lottery_numbers.\n",
    "Then construct a string and print it out.\n",
    "\n",
    "Remember: the string must contain the player's name and the amount of numbers they got right!\n",
    "\"\"\"\n"
   ]
  },
  {
   "cell_type": "code",
   "execution_count": 38,
   "metadata": {},
   "outputs": [
    {
     "name": "stdout",
     "output_type": "stream",
     "text": [
      "Player Jen got 2 numbers right\n",
      "Player David got 1 numbers right\n"
     ]
    }
   ],
   "source": [
    "lottery_numbers = {13, 21, 22, 5, 8}\n",
    "\n",
    "\n",
    "players = [\n",
    "        {\n",
    "            'name':'Jen',\n",
    "            'numbers': {13,2,5}\n",
    "            \n",
    "        },\n",
    "          {\n",
    "            'name':'David',\n",
    "            'numbers': {2,3,6,8}\n",
    "            \n",
    "        }\n",
    "    ]\n",
    "\n",
    "for player in range(len(players)):\n",
    "    right_num = len(players[player][\"numbers\"] & lottery_numbers)\n",
    "    player_name = players[player][\"name\"]\n",
    "    print(f\"Player {player_name} got {right_num} numbers right\")"
   ]
  },
  {
   "cell_type": "markdown",
   "metadata": {},
   "source": [
    "## Joining a list\n"
   ]
  },
  {
   "cell_type": "code",
   "execution_count": 43,
   "metadata": {},
   "outputs": [
    {
     "name": "stdout",
     "output_type": "stream",
     "text": [
      "My friends are ['Rolf', 'Anne', 'Charlie'].\n"
     ]
    }
   ],
   "source": [
    "# Imagine you've got all your friends in a list, and you want to print it out.\n",
    "friends = [\"Rolf\", \"Anne\", \"Charlie\"]\n",
    "print(f\"My friends are {friends}.\")"
   ]
  },
  {
   "cell_type": "code",
   "execution_count": 44,
   "metadata": {},
   "outputs": [
    {
     "name": "stdout",
     "output_type": "stream",
     "text": [
      "My friends are Rolf, Anne, Charlie.\n"
     ]
    }
   ],
   "source": [
    "# Not the prettiest, so instead you can join your friends using a \",\":\n",
    "friends = [\"Rolf\", \"Anne\", \"Charlie\"]\n",
    "comma_separated = \", \".join(friends)\n",
    "print(f\"My friends are {comma_separated}.\")"
   ]
  },
  {
   "cell_type": "code",
   "execution_count": 45,
   "metadata": {},
   "outputs": [],
   "source": [
    "# Want the last one to say \", and\" ?\n",
    "# You'll have to wait until we cover list slicing in the next section!"
   ]
  }
 ],
 "metadata": {
  "kernelspec": {
   "display_name": "Python 3",
   "language": "python",
   "name": "python3"
  },
  "language_info": {
   "codemirror_mode": {
    "name": "ipython",
    "version": 3
   },
   "file_extension": ".py",
   "mimetype": "text/x-python",
   "name": "python",
   "nbconvert_exporter": "python",
   "pygments_lexer": "ipython3",
   "version": "3.8.8"
  }
 },
 "nbformat": 4,
 "nbformat_minor": 4
}
