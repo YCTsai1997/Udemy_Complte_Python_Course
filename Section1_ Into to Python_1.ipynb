{
 "cells": [
  {
   "cell_type": "markdown",
   "metadata": {
    "id": "3O9LizleEsLt"
   },
   "source": [
    "## Variables and Printing"
   ]
  },
  {
   "cell_type": "code",
   "execution_count": 1,
   "metadata": {
    "id": "qPC5eTpEErCj"
   },
   "outputs": [
    {
     "name": "stdout",
     "output_type": "stream",
     "text": [
      "30\n",
      "30\n"
     ]
    }
   ],
   "source": [
    "# Define variables by giving them a name and a value\n",
    "age = 30\n",
    "\n",
    "# Print their values out by using the print() function\n",
    "print(age)\n",
    "\n",
    "# You can print values directly if you prefer\n",
    "print(30)"
   ]
  },
  {
   "cell_type": "code",
   "execution_count": null,
   "metadata": {
    "id": "zA7ffU2nFOdy"
   },
   "outputs": [],
   "source": [
    "# But having variables means you can change them after the fact\n",
    "age = 30\n",
    "print(age)\n",
    "age = 40\n",
    "print(age)"
   ]
  },
  {
   "cell_type": "code",
   "execution_count": null,
   "metadata": {
    "id": "1DS2878IFOmY"
   },
   "outputs": [],
   "source": [
    "# Variable names can contain letters, numbers, and underscores. However, they cannot start with a number.\n",
    "# There are some reserved names because Python uses them for other things.\n",
    "# For example, don't call your variable print, because print is something else!\n",
    "\n",
    "# Longer variable names are written in snake_case in Python:\n",
    "\n",
    "friend_age = 23\n",
    "countries_visited = 90\n",
    "## Using capital letters between words gives tou CamelCase"
   ]
  },
  {
   "cell_type": "code",
   "execution_count": null,
   "metadata": {
    "id": "4VXFAvC2FOsX"
   },
   "outputs": [],
   "source": [
    "# Variable names you will never change are written in all uppercase\n",
    "\n",
    "PI = 3.14159\n",
    "RADIANS_TO_DEGREES = 180 / PI"
   ]
  },
  {
   "cell_type": "markdown",
   "metadata": {},
   "source": [
    "## Numbers"
   ]
  },
  {
   "cell_type": "code",
   "execution_count": null,
   "metadata": {
    "id": "_40fGaG4EyT5"
   },
   "outputs": [],
   "source": [
    "# Two main types of number: whole numbers and floating point numbers\n",
    "# Also called integers and floats\n",
    "age = 35  # integer\n",
    "PI = 3.14159  # float"
   ]
  },
  {
   "cell_type": "code",
   "execution_count": 3,
   "metadata": {
    "id": "RlBPWoZiFSe6"
   },
   "outputs": [
    {
     "name": "stdout",
     "output_type": "stream",
     "text": [
      "5.0\n"
     ]
    }
   ],
   "source": [
    "# Maths works just as normal:\n",
    "maths_operation = 1 + 3 * 4 / 2 - 2\n",
    "print(maths_operation)"
   ]
  },
  {
   "cell_type": "code",
   "execution_count": 2,
   "metadata": {
    "id": "t094L1nIFSme"
   },
   "outputs": [
    {
     "name": "stdout",
     "output_type": "stream",
     "text": [
      "4.0\n"
     ]
    }
   ],
   "source": [
    "# Division always results in a float\n",
    "float_division = 12 / 3\n",
    "print(float_division)"
   ]
  },
  {
   "cell_type": "code",
   "execution_count": 5,
   "metadata": {
    "id": "nkv1-JCJFSkw"
   },
   "outputs": [
    {
     "name": "stdout",
     "output_type": "stream",
     "text": [
      "4\n"
     ]
    }
   ],
   "source": [
    "# But you can drop everything after the decimal, doing\n",
    "# \"integer division\"\n",
    "division_with_remainder = 12 // 3  # drops anything after the decimal (no rounding!)\n",
    "print(division_with_remainder)  # prints 2"
   ]
  },
  {
   "cell_type": "markdown",
   "metadata": {},
   "source": [
    "## Remainder of a division"
   ]
  },
  {
   "cell_type": "code",
   "execution_count": 6,
   "metadata": {
    "id": "zw81s8foFSiS"
   },
   "outputs": [
    {
     "name": "stdout",
     "output_type": "stream",
     "text": [
      "2\n"
     ]
    }
   ],
   "source": [
    "## Print remainder: This modulus operator is the percent symbol\n",
    "remainder = 12 % 5 \n",
    "print (remainder)\n",
    "\n",
    "# 5 goes into 12 two times. (5 * 2 is 10). The remainder is 2.\n",
    "# Getting the remainder of a division is such a popular operation, that Python gives us a way to do it really easily."
   ]
  },
  {
   "cell_type": "code",
   "execution_count": 7,
   "metadata": {
    "id": "PAwmMCyoFbUh"
   },
   "outputs": [
    {
     "name": "stdout",
     "output_type": "stream",
     "text": [
      "0\n"
     ]
    }
   ],
   "source": [
    "print(10 % 2)"
   ]
  },
  {
   "cell_type": "code",
   "execution_count": null,
   "metadata": {
    "id": "91cf7uq5Fbbf"
   },
   "outputs": [],
   "source": [
    "## Why is it so popular? # Can be use to find whether the value is even or odd\n",
    "# What would the remainder be in these divisions?\n",
    "#\n",
    "# 10 / 2\n",
    "# 14 / 2\n",
    "# 6 / 2\n",
    "# 340 / 2\n",
    "#\n",
    "# What about these?\n",
    "#\n",
    "# 11 / 2\n",
    "# 27 / 2\n",
    "# 3 / 2\n",
    "\n",
    "# For every even number, the remainder when divided by 2 is always 0.\n",
    "# For every odd number, the remainder when divided by 2 is always 1.\n",
    "# We can check whether a number is odd or even just by checking the remainder!\n",
    "\n",
    "x = 37\n",
    "remainder = x % 2\n",
    "print(remainder)  # should print 1, therefore it is odd\n",
    "\n",
    "# We'll look at doing things depending on whether a number is odd or even soon in the course!"
   ]
  },
  {
   "cell_type": "markdown",
   "metadata": {
    "id": "-RAi0IseFgNg"
   },
   "source": [
    "# Python String\n"
   ]
  },
  {
   "cell_type": "code",
   "execution_count": 8,
   "metadata": {
    "id": "xHzRIMSxFdVw"
   },
   "outputs": [],
   "source": [
    "my_string = \"Hello, world!\"\n",
    "single_quote_string = \"Hello, world!\"\n",
    "\n",
    "# Strings can use either single or double quotes. It's up to you which one you use!\n",
    "# Try to pick one and stick to it throughout all your code.\n",
    "# If you work with others, and they prefer a specific style, you can all agree on which to use.\n",
    "\n",
    "string_with_quotes = \"Hello, it's me.\"\n",
    "another_with_quotes = 'He said \"You are amazing!\" yesterday.'"
   ]
  },
  {
   "cell_type": "code",
   "execution_count": 9,
   "metadata": {
    "id": "D8ueL2NYFptX"
   },
   "outputs": [
    {
     "name": "stdout",
     "output_type": "stream",
     "text": [
      " Hello, World!\n",
      " Hello, it's me!\n",
      " He said \"You are amazing!\" yesterday.\n",
      "He said \"You are amazing\" yesterday! \n"
     ]
    }
   ],
   "source": [
    "my_string = \" Hello, World!\"\n",
    "print(my_string)\n",
    "\n",
    "\n",
    "my_string = \" Hello, it's me!\"\n",
    "print(my_string)\n",
    "\n",
    "# If your string has quotation marks, make sure to use the other mark for the string itself\n",
    "# Another option is to escape the quotation marks, but it is uglier and generally advised against:\n",
    "another_with_qoutes = ' He said \"You are amazing!\" yesterday.'\n",
    "print(another_with_qoutes)\n",
    "\n",
    "## escape key in Python (Escaping - Putting a backslash in front of a character) is used in Python to remoce meaning from a character\n",
    "another_with_qoute = \"He said \\\"You are amazing\\\" yesterday! \"\n",
    "print(another_with_qoute)"
   ]
  },
  {
   "cell_type": "code",
   "execution_count": 10,
   "metadata": {
    "id": "gEJs6ZIsFprF"
   },
   "outputs": [
    {
     "name": "stdout",
     "output_type": "stream",
     "text": [
      "Hello, world.\n",
      "\n",
      "\n",
      "My name is Yi.\n",
      "\n"
     ]
    }
   ],
   "source": [
    "# Multi-line strings are useful when you have very long ones \n",
    "    # and you want to be able to write them a bit more easily.\n",
    "# Multi-line strings keep the lines in the strings!\n",
    "\n",
    "multiline=\"\"\"Hello, world.\n",
    "\n",
    "\n",
    "My name is Yi.\n",
    "\"\"\"\n",
    "print(multiline) ## Will have one blank row in the end"
   ]
  },
  {
   "cell_type": "code",
   "execution_count": 12,
   "metadata": {
    "id": "VbbTfCS4FpmU"
   },
   "outputs": [
    {
     "name": "stdout",
     "output_type": "stream",
     "text": [
      "Hello, Joe\n"
     ]
    }
   ],
   "source": [
    "## String operations\n",
    "\n",
    "# You can add strings together to concatenate them (join them together).\n",
    "\n",
    "name = \"Joe\"\n",
    "gretting = \"Hello, \" + name\n",
    "print(gretting)"
   ]
  },
  {
   "cell_type": "code",
   "execution_count": 13,
   "metadata": {
    "id": "36tg9TNeFpkD"
   },
   "outputs": [
    {
     "ename": "TypeError",
     "evalue": "can only concatenate str (not \"int\") to str",
     "output_type": "error",
     "traceback": [
      "\u001b[0;31m---------------------------------------------------------------------------\u001b[0m",
      "\u001b[0;31mTypeError\u001b[0m                                 Traceback (most recent call last)",
      "\u001b[0;32m<ipython-input-13-a4c1bba6e8c4>\u001b[0m in \u001b[0;36m<module>\u001b[0;34m\u001b[0m\n\u001b[1;32m      1\u001b[0m \u001b[0mage\u001b[0m \u001b[0;34m=\u001b[0m \u001b[0;36m34\u001b[0m\u001b[0;34m\u001b[0m\u001b[0;34m\u001b[0m\u001b[0m\n\u001b[0;32m----> 2\u001b[0;31m \u001b[0mprint\u001b[0m\u001b[0;34m(\u001b[0m \u001b[0;34m\"You are \"\u001b[0m \u001b[0;34m+\u001b[0m \u001b[0mage\u001b[0m\u001b[0;34m)\u001b[0m\u001b[0;34m\u001b[0m\u001b[0;34m\u001b[0m\u001b[0m\n\u001b[0m\u001b[1;32m      3\u001b[0m \u001b[0;34m\u001b[0m\u001b[0m\n\u001b[1;32m      4\u001b[0m \u001b[0;31m## Error : you can not add integer and string together\u001b[0m\u001b[0;34m\u001b[0m\u001b[0;34m\u001b[0m\u001b[0;34m\u001b[0m\u001b[0m\n\u001b[1;32m      5\u001b[0m \u001b[0;34m\u001b[0m\u001b[0m\n",
      "\u001b[0;31mTypeError\u001b[0m: can only concatenate str (not \"int\") to str"
     ]
    }
   ],
   "source": [
    "age = 34 \n",
    "print( \"You are \" + age)\n",
    "\n",
    "## Error : you can not add integer and string together"
   ]
  },
  {
   "cell_type": "markdown",
   "metadata": {},
   "source": [
    "But you can if you turn the number into a string first:"
   ]
  },
  {
   "cell_type": "code",
   "execution_count": null,
   "metadata": {
    "id": "vB3Ove2SFphk"
   },
   "outputs": [],
   "source": [
    "## Solution 1: \n",
    "age = \"34 \"\n",
    "print( \"You are \" + age)"
   ]
  },
  {
   "cell_type": "code",
   "execution_count": null,
   "metadata": {
    "id": "NOInQX2DF019"
   },
   "outputs": [],
   "source": [
    "## solution 2 \n",
    "age= 34\n",
    "print (\"My age is \"+ str(age))"
   ]
  },
  {
   "cell_type": "markdown",
   "metadata": {},
   "source": [
    "## String formatting"
   ]
  },
  {
   "cell_type": "code",
   "execution_count": 14,
   "metadata": {
    "id": "eE73gayEF0-Z"
   },
   "outputs": [
    {
     "name": "stdout",
     "output_type": "stream",
     "text": [
      "3.7.6 (default, Jan  8 2020, 13:42:34) \n",
      "[Clang 4.0.1 (tags/RELEASE_401/final)]\n"
     ]
    }
   ],
   "source": [
    "import sys\n",
    "print (sys.version)"
   ]
  },
  {
   "cell_type": "code",
   "execution_count": 16,
   "metadata": {
    "id": "mOvBswzGF08K"
   },
   "outputs": [
    {
     "name": "stdout",
     "output_type": "stream",
     "text": [
      "You are 34\n"
     ]
    }
   ],
   "source": [
    "# Another way to merge different type of data into one\n",
    "# You can also use f-strings if you are using Python 3.6 or later.\n",
    "# f-strings don't work in Python 3.5 or earlier.\n",
    "# In f-strings, {name} gets replaced by the value of the variable name.\n",
    "\n",
    "\n",
    "age = 34\n",
    "print(f\"You are {age}\")"
   ]
  },
  {
   "cell_type": "code",
   "execution_count": 18,
   "metadata": {},
   "outputs": [
    {
     "ename": "TypeError",
     "evalue": "'str' object is not callable",
     "output_type": "error",
     "traceback": [
      "\u001b[0;31m---------------------------------------------------------------------------\u001b[0m",
      "\u001b[0;31mTypeError\u001b[0m                                 Traceback (most recent call last)",
      "\u001b[0;32m<ipython-input-18-c17241596f1e>\u001b[0m in \u001b[0;36m<module>\u001b[0;34m\u001b[0m\n\u001b[1;32m      1\u001b[0m \u001b[0mName\u001b[0m \u001b[0;34m=\u001b[0m \u001b[0;34m\"Jose\"\u001b[0m\u001b[0;34m\u001b[0m\u001b[0;34m\u001b[0m\u001b[0m\n\u001b[1;32m      2\u001b[0m \u001b[0mgrettings\u001b[0m \u001b[0;34m=\u001b[0m \u001b[0;34mf\"HOw are you. {Name} ?\"\u001b[0m\u001b[0;34m\u001b[0m\u001b[0;34m\u001b[0m\u001b[0m\n\u001b[0;32m----> 3\u001b[0;31m \u001b[0mprint\u001b[0m\u001b[0;34m(\u001b[0m\u001b[0mgrettings\u001b[0m\u001b[0;34m(\u001b[0m\u001b[0mName\u001b[0m\u001b[0;34m)\u001b[0m\u001b[0;34m)\u001b[0m\u001b[0;34m\u001b[0m\u001b[0;34m\u001b[0m\u001b[0m\n\u001b[0m",
      "\u001b[0;31mTypeError\u001b[0m: 'str' object is not callable"
     ]
    }
   ],
   "source": [
    "Name = \"Jose\"\n",
    "grettings = f\"HOw are you. {Name} ?\"\n",
    "print(grettings(Name))"
   ]
  },
  {
   "cell_type": "code",
   "execution_count": 17,
   "metadata": {
    "id": "yLnWCraEF05s"
   },
   "outputs": [
    {
     "name": "stdout",
     "output_type": "stream",
     "text": [
      "How are you, Jose ?\n",
      "How are you, Jose ?\n"
     ]
    }
   ],
   "source": [
    "Name = \"Jose\"\n",
    "Grettings = f\"How are you, {Name} ?\"\n",
    "print (Grettings)\n",
    "\n",
    "## Issue with f string: Even if you change the name, the results won't change!\n",
    "## Reason is that f string works in Grettings, and at that time, name is Jose. \n",
    "    # Thus even if you change Name, it won't affect Grettings.\n",
    "Name= \"Bob\"\n",
    "print(Grettings)"
   ]
  },
  {
   "cell_type": "code",
   "execution_count": 23,
   "metadata": {
    "id": "rI8QCCPQF9Lk"
   },
   "outputs": [
    {
     "name": "stdout",
     "output_type": "stream",
     "text": [
      "How are you, Jose?\n"
     ]
    }
   ],
   "source": [
    "### to fixed this \n",
    "\n",
    "# The {} gets replaced by whatever is inside the brackets of the .format()\n",
    "Name = \"Jose\"\n",
    "Final_Grettings= \"How are you, {}?\"  ## There is no f and no variable name in the string \n",
    "Jose_Gretting = Final_Grettings.format(Name) ## can accept the value in the format function\n",
    "print(Jose_Gretting)"
   ]
  },
  {
   "cell_type": "code",
   "execution_count": 24,
   "metadata": {
    "id": "dS8x21VmF9Pk"
   },
   "outputs": [
    {
     "name": "stdout",
     "output_type": "stream",
     "text": [
      "How are you, Bob?\n"
     ]
    }
   ],
   "source": [
    "Bob_Gretting= Final_Grettings.format(\"Bob\")\n",
    "print(Bob_Gretting)"
   ]
  },
  {
   "cell_type": "code",
   "execution_count": 25,
   "metadata": {
    "id": "fv3HNrvLGCfU"
   },
   "outputs": [
    {
     "name": "stdout",
     "output_type": "stream",
     "text": [
      "How are you, Bob?\n"
     ]
    }
   ],
   "source": [
    "Name=\"Bob\"\n",
    "Bob_Gretting= Final_Grettings.format(Name)\n",
    "print(Bob_Gretting)"
   ]
  },
  {
   "cell_type": "code",
   "execution_count": 26,
   "metadata": {
    "id": "yIgt_88DGCyF"
   },
   "outputs": [
    {
     "ename": "KeyError",
     "evalue": "'name'",
     "output_type": "error",
     "traceback": [
      "\u001b[0;31m---------------------------------------------------------------------------\u001b[0m",
      "\u001b[0;31mKeyError\u001b[0m                                  Traceback (most recent call last)",
      "\u001b[0;32m<ipython-input-26-7ba896ce1d5c>\u001b[0m in \u001b[0;36m<module>\u001b[0;34m\u001b[0m\n\u001b[1;32m      3\u001b[0m \u001b[0mname\u001b[0m \u001b[0;34m=\u001b[0m \u001b[0;34m\"Jose\"\u001b[0m\u001b[0;34m\u001b[0m\u001b[0;34m\u001b[0m\u001b[0m\n\u001b[1;32m      4\u001b[0m \u001b[0mfinal_gretting\u001b[0m\u001b[0;34m=\u001b[0m\u001b[0;34m\"How are you, {name}?\"\u001b[0m \u001b[0;31m# But this is not the variable, you need to add variable by yourself!\u001b[0m\u001b[0;34m\u001b[0m\u001b[0;34m\u001b[0m\u001b[0m\n\u001b[0;32m----> 5\u001b[0;31m \u001b[0mjose_gretting\u001b[0m\u001b[0;34m=\u001b[0m\u001b[0mfinal_gretting\u001b[0m\u001b[0;34m.\u001b[0m\u001b[0mformat\u001b[0m\u001b[0;34m(\u001b[0m\u001b[0;34m\"Bob\"\u001b[0m\u001b[0;34m)\u001b[0m   \u001b[0;31m### Thos does not work!\u001b[0m\u001b[0;34m\u001b[0m\u001b[0;34m\u001b[0m\u001b[0m\n\u001b[0m\u001b[1;32m      6\u001b[0m \u001b[0mjose_gretting\u001b[0m\u001b[0;34m=\u001b[0m\u001b[0mfinal_gretting\u001b[0m\u001b[0;34m.\u001b[0m\u001b[0mformat\u001b[0m\u001b[0;34m(\u001b[0m\u001b[0mname\u001b[0m\u001b[0;34m=\u001b[0m\u001b[0;34m\"Jose\"\u001b[0m\u001b[0;34m)\u001b[0m \u001b[0;31m### if you specified the variable name, then you have to put it in\u001b[0m\u001b[0;34m\u001b[0m\u001b[0;34m\u001b[0m\u001b[0m\n\u001b[1;32m      7\u001b[0m \u001b[0mprint\u001b[0m\u001b[0;34m(\u001b[0m\u001b[0mjose_gretting\u001b[0m\u001b[0;34m)\u001b[0m\u001b[0;34m\u001b[0m\u001b[0;34m\u001b[0m\u001b[0m\n",
      "\u001b[0;31mKeyError\u001b[0m: 'name'"
     ]
    }
   ],
   "source": [
    "# You can also give names to variables inside a formattable string:\n",
    "\n",
    "name = \"Jose\"\n",
    "final_gretting=\"How are you, {name}?\" # But this is not the variable, you need to add variable by yourself!\n",
    "jose_gretting=final_gretting.format(\"Bob\")   ### Thos does not work!\n",
    "jose_gretting=final_gretting.format(name=\"Jose\") ### if you specified the variable name, then you have to put it in\n",
    "print(jose_gretting)"
   ]
  },
  {
   "cell_type": "code",
   "execution_count": 27,
   "metadata": {
    "id": "7atjVef7GCv0"
   },
   "outputs": [
    {
     "ename": "SyntaxError",
     "evalue": "invalid syntax (<ipython-input-27-5220b0337886>, line 4)",
     "output_type": "error",
     "traceback": [
      "\u001b[0;36m  File \u001b[0;32m\"<ipython-input-27-5220b0337886>\"\u001b[0;36m, line \u001b[0;32m4\u001b[0m\n\u001b[0;31m    final_gretting1 =f \"How are you, {name1}?\"\u001b[0m\n\u001b[0m                                             ^\u001b[0m\n\u001b[0;31mSyntaxError\u001b[0m\u001b[0;31m:\u001b[0m invalid syntax\n"
     ]
    }
   ],
   "source": [
    "## Error! (You can not have blank between f and string! The f string here f is in black not red!)\n",
    "### But if you have define the variable before, you don't have to redefine again \n",
    "name1 = \"Jose\"\n",
    "final_gretting1 =f \"How are you, {name1} ?\"\n",
    "print(final_gretting1)"
   ]
  },
  {
   "cell_type": "code",
   "execution_count": 29,
   "metadata": {},
   "outputs": [
    {
     "name": "stdout",
     "output_type": "stream",
     "text": [
      "How are you, Jose ?\n"
     ]
    }
   ],
   "source": [
    "# Correct answer\n",
    "name1 = \"Jose\"\n",
    "final_gretting1 =f\"How are you, {name1} ?\"\n",
    "print(final_gretting1)"
   ]
  },
  {
   "cell_type": "code",
   "execution_count": null,
   "metadata": {
    "id": "hs79471qGCt1"
   },
   "outputs": [],
   "source": [
    "# Usually you will be using f-strings, just because they are shorter and more readable.\n",
    "# However sometimes you may need to re-use a format string, and that is when using .format() is useful."
   ]
  },
  {
   "cell_type": "code",
   "execution_count": 30,
   "metadata": {
    "id": "y7hU9wlLGCrX"
   },
   "outputs": [
    {
     "name": "stdout",
     "output_type": "stream",
     "text": [
      "Hello  . My name is Jose.\n",
      "Hello Mike My name is Jose\n",
      "Hello Bob My name is Jose\n"
     ]
    }
   ],
   "source": [
    "### If you change the variable name and print the one with changes, this it works! \n",
    "    # But if you just change the varible name, and did not change the sytax with the variable, then it won't change!\n",
    "my_name=\"Jose\"\n",
    "your_name=\" \"\n",
    "print(f\"Hello {your_name}. My name is {my_name}.\")\n",
    "\n",
    "your_name=\"Mike\"\n",
    "print(f\"Hello {your_name} My name is {my_name}\")\n",
    "\n",
    "your_name=\"Bob\"\n",
    "print(f\"Hello {your_name} My name is {my_name}\")"
   ]
  },
  {
   "cell_type": "markdown",
   "metadata": {
    "id": "adidXsDhGSdr"
   },
   "source": [
    "# Get user input\n"
   ]
  },
  {
   "cell_type": "code",
   "execution_count": null,
   "metadata": {
    "id": "hlIkHm7fGCow"
   },
   "outputs": [],
   "source": [
    "\"\"\"\n",
    "We use input() to present the user with a prompt.\n",
    "They can then type, and when they press Enter everything they typed gets returned.\n",
    "We can assign that to a variable if we want!\n",
    "\"\"\"\n",
    "\n",
    "My_Name= \"Yi\"\n",
    "Your_Name = input(\"Enter your name: \")\n",
    "\n",
    "print(f\"Hello {Your_Name}. My name is {My_Name}\")\n",
    "\n",
    "## For input anything that user typed will be string! Even if they put in numbers"
   ]
  },
  {
   "cell_type": "code",
   "execution_count": 4,
   "metadata": {
    "colab": {
     "base_uri": "https://localhost:8080/",
     "height": 51
    },
    "executionInfo": {
     "elapsed": 779,
     "status": "ok",
     "timestamp": 1601168860501,
     "user": {
      "displayName": "Yi-Chuan Tsai",
      "photoUrl": "https://lh3.googleusercontent.com/a-/AOh14GiAHoYAfzocP2ZV2ueJqQ89enEK3NKKzhT_E6fg=s64",
      "userId": "06680055892440874637"
     },
     "user_tz": 240
    },
    "id": "SOssHilSGCm1",
    "outputId": "54fa3ba1-842e-49fc-de93-cf94b305bbd0"
   },
   "outputs": [
    {
     "name": "stdout",
     "output_type": "stream",
     "text": [
      "You have lived 12*34 months.\n",
      "You have lived 408 months.\n"
     ]
    }
   ],
   "source": [
    "## Calculating months\n",
    "## If you type in the first one, it won't calculated. Unless, you bring the two together!\n",
    "\n",
    "age = 3\n",
    "print(f\"You have lived 12*{age} months.\")\n",
    "print(f\"You have lived {12*age} months.\")\n",
    "\n",
    "## Input function always give you string format\n",
    "\n",
    "\"\"\"\n",
    "It doesn't work quite as we'd expect.\n",
    "\n",
    "That's because we're multiplying the string '3' by 12, which concatenates the string twelve times.\n",
    "Instead we want to multiply the number. We'll have to convert our string to a number first.\n",
    "\"\"\""
   ]
  },
  {
   "cell_type": "code",
   "execution_count": null,
   "metadata": {
    "id": "AiZqTyexF9Tn"
   },
   "outputs": [],
   "source": [
    "age = input(\"Enter your age: \")\n",
    "age_num = int(age)\n",
    "print(f\"You have lived for {age_num * 12} months.\")"
   ]
  },
  {
   "cell_type": "code",
   "execution_count": null,
   "metadata": {
    "id": "xBH8yuzZGo7y"
   },
   "outputs": [],
   "source": [
    "# Beter way (easier to mainain)\n",
    "\n",
    "age = int(input(\"Enter your age: \"))  # Enter 3\n",
    "months = age * 12\n",
    "print(f\"You have lived for {months} months.\")  # Prints You have lived for 36 months."
   ]
  },
  {
   "cell_type": "code",
   "execution_count": null,
   "metadata": {
    "id": "2t7uAkXBGvHK"
   },
   "outputs": [],
   "source": [
    "# First, ask the user for their name. Then, print out the greeting \"Hello, NAME\"\n",
    "# Remember the uppercase H, the comma, and the space between words! (Don't need brackets before format)\n",
    "Name= input(\"Enter your name: \")\n",
    "print(\"Hello, {}\".format(Name))\n",
    "\n",
    "## Easy way\n",
    "user_name = input('Enter your name: ')\n",
    "print('Hello, ' + user_name)\n",
    "\n",
    "\n",
    "# Secondly, ask the user for their age and convert it into a number.\n",
    "# Then, print out how many months that equals to (you'll have to multiply the age by 12).\n",
    "age= int(input(\"Enter your age: \"))\n",
    "print(age*12)\n",
    "\n",
    "## print({age*12}.format(age))  does not work\n",
    "print(\"{12*age}\".format(age))"
   ]
  },
  {
   "cell_type": "markdown",
   "metadata": {},
   "source": [
    "## Coding exercise"
   ]
  },
  {
   "cell_type": "code",
   "execution_count": null,
   "metadata": {},
   "outputs": [],
   "source": [
    "# First, ask the user for their name. Then, print out the greeting \"Hello, NAME\"\n",
    "# Remember the uppercase H, the comma, and the space between words!\n",
    "name = input(\" Enter your name: \")\n",
    "print(f\"Hello, {name}\")\n",
    "\n",
    "\n",
    "# Secondly, ask the user for their age and convert it into a number.\n",
    "# Then, print out how many months that equals to (you'll have to multiply the age by 12).\n",
    "age = int(input(\"Enter your age: \"))\n",
    "print(age*12)"
   ]
  },
  {
   "cell_type": "code",
   "execution_count": null,
   "metadata": {},
   "outputs": [],
   "source": [
    "# First, ask the user for their name. Then, print out the greeting \"Hello, NAME\"\n",
    "# Remember the uppercase H, the comma, and the space between words!\n",
    "Name = input(\"What's your name?\")\n",
    "print(\"Hello, {}\".format(Name))\n",
    "\n",
    "# Secondly, ask the user for their age and convert it into a number.\n",
    "# Then, print out how many months that equals to (you'll have to multiply the age by 12).\n",
    "Age = int(input(\"What's your age?\"))\n",
    "month= Age * 12\n",
    "print(month)"
   ]
  }
 ],
 "metadata": {
  "colab": {
   "authorship_tag": "ABX9TyNnSrdIPevHeJ2jaWM4fxaV",
   "collapsed_sections": [],
   "name": "Sep_2020_Python_Basic_1.ipynb",
   "provenance": []
  },
  "kernelspec": {
   "display_name": "Python 3",
   "language": "python",
   "name": "python3"
  },
  "language_info": {
   "codemirror_mode": {
    "name": "ipython",
    "version": 3
   },
   "file_extension": ".py",
   "mimetype": "text/x-python",
   "name": "python",
   "nbconvert_exporter": "python",
   "pygments_lexer": "ipython3",
   "version": "3.7.6"
  }
 },
 "nbformat": 4,
 "nbformat_minor": 1
}
