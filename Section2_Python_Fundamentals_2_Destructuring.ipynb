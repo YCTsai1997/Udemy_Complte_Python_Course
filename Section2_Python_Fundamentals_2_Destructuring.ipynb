{
 "cells": [
  {
   "cell_type": "markdown",
   "metadata": {},
   "source": [
    "## Destructuring\n",
    "- https://blog.teclado.com/destructuring-in-python/\n",
    "- Destructuring (also called unpacking) is where we take a collection, like a list or a tuple, and we break it up into individual values. \n",
    "- This is quite useful, as it enables us to do things like destructuring assignments, where we assign values to several variables at once from a single collection."
   ]
  },
  {
   "cell_type": "code",
   "execution_count": 4,
   "metadata": {},
   "outputs": [
    {
     "name": "stdout",
     "output_type": "stream",
     "text": [
      "<class 'tuple'>\n",
      "usd is 0.8, eur is 1.2\n"
     ]
    }
   ],
   "source": [
    "# Given a tuple or list:\n",
    "currencies = 0.8, 1.2\n",
    "print(type(currencies))\n",
    "usd, eur = currencies\n",
    "\n",
    "print(f\"usd is {usd}, eur is {eur}\")"
   ]
  },
  {
   "cell_type": "code",
   "execution_count": 3,
   "metadata": {},
   "outputs": [
    {
     "name": "stdout",
     "output_type": "stream",
     "text": [
      "Rolf is 25 years old.\n",
      "Anne is 37 years old.\n",
      "Charlie is 31 years old.\n",
      "Bob is 22 years old.\n"
     ]
    }
   ],
   "source": [
    "# -- Destructuring in a loop --\n",
    "# If you've got a list of lists, such as friend names and ages, you can destructure\n",
    "# in a loop like this:\n",
    "\n",
    "friends = [(\"Rolf\", 25), (\"Anne\", 37), (\"Charlie\", 31), (\"Bob\", 22)]\n",
    "for name, age in friends:  # for friend in friends first\n",
    "    print(f\"{name} is {age} years old.\")"
   ]
  },
  {
   "cell_type": "code",
   "execution_count": null,
   "metadata": {},
   "outputs": [],
   "source": [
    "## Another way to write  \n",
    "for name, age in friends:\n",
    "\n",
    "## Method 1: \n",
    "for friend in friends:\n",
    "    name, age = friend\n",
    "    \n",
    "## Method 2: \n",
    "for friend in friends:\n",
    "    name = friend[0]\n",
    "    age = friend[1]"
   ]
  },
  {
   "cell_type": "markdown",
   "metadata": {},
   "source": [
    "## Iterating over dictionaries\n",
    "- https://blog.teclado.com/python-dictionaries-and-loops/"
   ]
  },
  {
   "cell_type": "code",
   "execution_count": 5,
   "metadata": {},
   "outputs": [],
   "source": [
    "friend_ages = {\"Rolf\": 25, \"Anne\": 37, \"Charlie\": 31, \"Bob\": 22}"
   ]
  },
  {
   "cell_type": "code",
   "execution_count": 6,
   "metadata": {},
   "outputs": [
    {
     "name": "stdout",
     "output_type": "stream",
     "text": [
      "Rolf\n",
      "Anne\n",
      "Charlie\n",
      "Bob\n"
     ]
    }
   ],
   "source": [
    "for name in friend_ages:\n",
    "    print(name)"
   ]
  },
  {
   "cell_type": "code",
   "execution_count": 7,
   "metadata": {},
   "outputs": [
    {
     "name": "stdout",
     "output_type": "stream",
     "text": [
      "25\n",
      "37\n",
      "31\n",
      "22\n"
     ]
    }
   ],
   "source": [
    "for age in friend_ages.values():\n",
    "    print(age)"
   ]
  },
  {
   "cell_type": "code",
   "execution_count": 8,
   "metadata": {},
   "outputs": [
    {
     "name": "stdout",
     "output_type": "stream",
     "text": [
      "Rolf is 25 years old.\n",
      "Anne is 37 years old.\n",
      "Charlie is 31 years old.\n",
      "Bob is 22 years old.\n"
     ]
    }
   ],
   "source": [
    "for name, age in friend_ages.items():\n",
    "    print(f\"{name} is {age} years old.\")"
   ]
  },
  {
   "cell_type": "markdown",
   "metadata": {},
   "source": [
    "## Break and continue"
   ]
  },
  {
   "cell_type": "markdown",
   "metadata": {},
   "source": [
    "-- break --\n",
    "- Exits out of the loop, so that no more iterations occur."
   ]
  },
  {
   "cell_type": "code",
   "execution_count": null,
   "metadata": {},
   "outputs": [],
   "source": [
    "cars = [\"ok\", \"ok\", \"ok\", \"faulty\", \"ok\", \"ok\"]\n",
    "\n",
    "for status in cars:\n",
    "    if status == \"faulty\":\n",
    "        print(\"Stopping the production line!\")\n",
    "        break\n",
    "\n",
    "    print(f\"This car is {status}.\")"
   ]
  },
  {
   "cell_type": "markdown",
   "metadata": {},
   "source": [
    "-- continue --\n",
    "- Terminates the current iteration and moves onto the next one."
   ]
  },
  {
   "cell_type": "code",
   "execution_count": null,
   "metadata": {},
   "outputs": [],
   "source": [
    "cars = [\"ok\", \"ok\", \"ok\", \"faulty\", \"ok\", \"ok\"]\n",
    "\n",
    "for status in cars:\n",
    "    if status == \"faulty\":\n",
    "        print(\"Found faulty car, skipping...\")\n",
    "        continue\n",
    "\n",
    "    print(f\"This car is {status}.\")\n",
    "    print(\"Shipping new car to customer!\")"
   ]
  },
  {
   "cell_type": "markdown",
   "metadata": {},
   "source": [
    "## The else keyword with loops\n",
    "- https://blog.teclado.com/python-more-uses-for-else/\n",
    "- On loops, you can add an `else` clause. This only runs if the loop does not encounter a `break` or an error. \n",
    "That means, if the loop completes successfully, the `else` part will run."
   ]
  },
  {
   "cell_type": "markdown",
   "metadata": {},
   "source": [
    "If we want to show there is no faulty cars. Then we can use a naive approach as below:"
   ]
  },
  {
   "cell_type": "code",
   "execution_count": 14,
   "metadata": {},
   "outputs": [
    {
     "name": "stdout",
     "output_type": "stream",
     "text": [
      "This car is ok.\n",
      "This car is ok.\n",
      "This car is ok.\n",
      "This car is ok.\n",
      "This car is ok.\n",
      "All cars built successfully. No faulty cars!\n"
     ]
    }
   ],
   "source": [
    "cars = [\"ok\", \"ok\", \"ok\", \"ok\", \"ok\"]\n",
    "all_successful = True\n",
    "\n",
    "for status in cars:\n",
    "    if status == \"faulty\":\n",
    "        print(\"Stopping the production line!\")\n",
    "        all_successful = False\n",
    "        break\n",
    "\n",
    "    print(f\"This car is {status}.\")\n",
    "\n",
    "if all_successful: # we don't have to write == True. \n",
    "    print(\"All cars built successfully. No faulty cars!\")\n"
   ]
  },
  {
   "cell_type": "code",
   "execution_count": 11,
   "metadata": {},
   "outputs": [
    {
     "name": "stdout",
     "output_type": "stream",
     "text": [
      "This car is ok.\n",
      "This car is ok.\n",
      "This car is ok.\n",
      "Stopping the production line!\n"
     ]
    }
   ],
   "source": [
    "# else is for the situation if there is no faulty cars!\n",
    "cars = [\"ok\", \"ok\", \"ok\", \"faulty\", \"ok\", \"ok\"]\n",
    "\n",
    "for status in cars:\n",
    "    if status == \"faulty\":\n",
    "        print(\"Stopping the production line!\")\n",
    "        break\n",
    "\n",
    "    print(f\"This car is {status}.\")\n",
    "else:\n",
    "    print(\"All cars built successfully. No faulty cars!\")"
   ]
  },
  {
   "cell_type": "markdown",
   "metadata": {},
   "source": [
    "- Remove the \"faulty\" and you'll see the `else` part starts running.\n",
    "- Link: https://blog.tecladocode.com/python-snippet-1-more-uses-for-else/"
   ]
  },
  {
   "cell_type": "markdown",
   "metadata": {},
   "source": [
    "## Finding prime numbers with for loops "
   ]
  },
  {
   "cell_type": "code",
   "execution_count": 15,
   "metadata": {},
   "outputs": [
    {
     "name": "stdout",
     "output_type": "stream",
     "text": [
      "2 is a prime number.\n",
      "3 is a prime number.\n",
      "4 equals 2 * 2\n",
      "5 is a prime number.\n",
      "6 equals 2 * 3\n",
      "7 is a prime number.\n",
      "8 equals 2 * 4\n",
      "9 equals 3 * 3\n"
     ]
    }
   ],
   "source": [
    "for n in range(2, 10):\n",
    "    for x in range(2, n):\n",
    "        if n % x == 0:  # if n is divisible by x, it means it's not a prime number.\n",
    "            print(f\"{n} equals {x} * {n//x}\") # drops anything after the decimal \n",
    "            break # only applied to the nearest loop\n",
    "    else:  # if n was not divisible by any x, it means it is a prime number.\n",
    "        print(f\"{n} is a prime number.\")"
   ]
  },
  {
   "cell_type": "markdown",
   "metadata": {},
   "source": [
    "## List slicing\n",
    "\n",
    "- https://blog.teclado.com/python-slices/\n",
    "\n",
    "- Slicing is the process of creating a new sequence from some portion of an existing sequence.\n",
    "- We can perform slicing on any sequence type in Python. This includes string, lists, tuples, byte objects and byte arrays.\n",
    "- Because slicing relies on the position of items in a sequence, it cannot be used on things like sets, which do not preserve order. More importantly, they aren't indexed by consecutive non-negative integers, which is why dictionaries also cannot be sliced, despite having a reliable ordering in modern Python.\n",
    "- We can define a slice object creating an instance of the slice class, which has three parameters: a starting index, a stopping index, and an optional step value. Remember that the item at the stopping index of a given sequence is not included in the slice.\n",
    "- We can create a slice of a specific sequence by passing a slice object into a pair of square brackets directly after that sequence, e.g. some_sequence[slice(1, 2)]. We can also use special slice syntax inside these square brackets, removing the need for use to explicitly create a slice object, e.g. some_sequence[1:2].\n",
    "- Both indices values and step values can be negative, but we have to be careful when using negative values, as it's easy to end up with a slice that contains nothing. One use case for a negative step is quickly reversing a sequence like so: some_sequence[::-1]."
   ]
  },
  {
   "cell_type": "code",
   "execution_count": 16,
   "metadata": {},
   "outputs": [],
   "source": [
    "friends = [\"Rolf\", \"Charlie\", \"Anna\", \"Bob\", \"Jen\"]"
   ]
  },
  {
   "cell_type": "code",
   "execution_count": 17,
   "metadata": {},
   "outputs": [
    {
     "name": "stdout",
     "output_type": "stream",
     "text": [
      "['Anna', 'Bob']\n",
      "['Anna', 'Bob', 'Jen']\n",
      "['Rolf', 'Charlie', 'Anna', 'Bob']\n"
     ]
    }
   ],
   "source": [
    "print(friends[2:4])\n",
    "print(friends[2:])\n",
    "print(friends[:4])"
   ]
  },
  {
   "cell_type": "code",
   "execution_count": 18,
   "metadata": {},
   "outputs": [
    {
     "name": "stdout",
     "output_type": "stream",
     "text": [
      "['Rolf', 'Charlie', 'Anna', 'Bob', 'Jen']\n"
     ]
    }
   ],
   "source": [
    "print(friends[:]) ## This is a new list "
   ]
  },
  {
   "cell_type": "code",
   "execution_count": 20,
   "metadata": {},
   "outputs": [
    {
     "name": "stdout",
     "output_type": "stream",
     "text": [
      "['Rolf', 'Charlie', 'Anna', 'Bob', 'Jen']\n"
     ]
    }
   ],
   "source": [
    "print(friends) ## This is the old list "
   ]
  },
  {
   "cell_type": "code",
   "execution_count": 19,
   "metadata": {},
   "outputs": [
    {
     "name": "stdout",
     "output_type": "stream",
     "text": [
      "['Anna', 'Bob', 'Jen']\n",
      "['Rolf', 'Charlie', 'Anna']\n",
      "['Anna', 'Bob']\n"
     ]
    }
   ],
   "source": [
    "print(friends[-3:])\n",
    "print(friends[:-2])\n",
    "print(friends[-3:-1])"
   ]
  },
  {
   "cell_type": "code",
   "execution_count": 21,
   "metadata": {},
   "outputs": [
    {
     "name": "stdout",
     "output_type": "stream",
     "text": [
      "['Anna', 'Bob']\n"
     ]
    }
   ],
   "source": [
    "print(friends[-3:4])"
   ]
  }
 ],
 "metadata": {
  "kernelspec": {
   "display_name": "Python 3",
   "language": "python",
   "name": "python3"
  },
  "language_info": {
   "codemirror_mode": {
    "name": "ipython",
    "version": 3
   },
   "file_extension": ".py",
   "mimetype": "text/x-python",
   "name": "python",
   "nbconvert_exporter": "python",
   "pygments_lexer": "ipython3",
   "version": "3.7.6"
  }
 },
 "nbformat": 4,
 "nbformat_minor": 4
}
