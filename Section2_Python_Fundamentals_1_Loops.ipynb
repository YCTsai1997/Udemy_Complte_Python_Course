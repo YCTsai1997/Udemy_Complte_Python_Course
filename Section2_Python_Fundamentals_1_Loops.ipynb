{
 "cells": [
  {
   "cell_type": "markdown",
   "metadata": {},
   "source": [
    "## If statements in Python"
   ]
  },
  {
   "cell_type": "code",
   "execution_count": 2,
   "metadata": {},
   "outputs": [
    {
     "name": "stdout",
     "output_type": "stream",
     "text": [
      "Enter your name:Yi\n",
      "Hello, friend\n"
     ]
    }
   ],
   "source": [
    "friend = \"Rolf\"\n",
    "user_name= input(\"Enter your name:\")\n",
    "\n",
    "if True: # This will execute no matter what...if can put boolean by itself!\n",
    "    print(\"Hello, friend\")"
   ]
  },
  {
   "cell_type": "code",
   "execution_count": 6,
   "metadata": {},
   "outputs": [
    {
     "name": "stdout",
     "output_type": "stream",
     "text": [
      "Enter your name: Kim\n",
      "Hello, stranger!\n"
     ]
    }
   ],
   "source": [
    "friend = \"Rolf\"\n",
    "user_name = input(\"Enter your name: \")\n",
    "\n",
    "if user_name == friend:\n",
    "    print(\"Hello, friend!\")\n",
    "else:\n",
    "    print(\"Hello, stranger!\")\n"
   ]
  },
  {
   "cell_type": "code",
   "execution_count": 7,
   "metadata": {},
   "outputs": [
    {
     "name": "stdout",
     "output_type": "stream",
     "text": [
      "False\n"
     ]
    }
   ],
   "source": [
    "# -- Checking whether the if statement will run --\n",
    "\n",
    "print(bool(user_name == friend))  # if this is True, the if statement will run\n"
   ]
  },
  {
   "cell_type": "markdown",
   "metadata": {},
   "source": [
    "-- Using the `in` keyword --"
   ]
  },
  {
   "cell_type": "code",
   "execution_count": 8,
   "metadata": {},
   "outputs": [
    {
     "name": "stdout",
     "output_type": "stream",
     "text": [
      "Enter your name: Anne\n",
      "I don't know you.\n"
     ]
    }
   ],
   "source": [
    "friends = [\"Rolf\", \"Bob\", \"Anne\"]\n",
    "family = [\"Jen\", \"Charlie\"]\n",
    "\n",
    "user_name = input(\"Enter your name: \")\n",
    "\n",
    "if user_name == friends: # Will not work as we expected! user_name is string and friends is a list...\n",
    "    print(\"Hello, friend!\")\n",
    "elif user_name in family:\n",
    "    print(\"Hello, family!\")\n",
    "else:\n",
    "    print(\"I don't know you.\")"
   ]
  },
  {
   "cell_type": "code",
   "execution_count": 4,
   "metadata": {},
   "outputs": [
    {
     "name": "stdout",
     "output_type": "stream",
     "text": [
      "Enter your name: Bob\n",
      "Hello, friend!\n",
      "I don't know you.\n"
     ]
    }
   ],
   "source": [
    "friends = [\"Rolf\", \"Bob\", \"Anne\"]\n",
    "family = [\"Jen\", \"Charlie\"]\n",
    "\n",
    "user_name = input(\"Enter your name: \")\n",
    "\n",
    "if user_name in friends: \n",
    "    print(\"Hello, friend!\")\n",
    "\n",
    "if user_name in family: # we want to chain all these together so need to use elif\n",
    "    print(\"Hello, family!\")\n",
    "else:\n",
    "    print(\"I don't know you.\")"
   ]
  },
  {
   "cell_type": "code",
   "execution_count": 5,
   "metadata": {},
   "outputs": [
    {
     "name": "stdout",
     "output_type": "stream",
     "text": [
      "Enter your name: Bob\n",
      "Hello, friend!\n"
     ]
    }
   ],
   "source": [
    "friends = [\"Rolf\", \"Bob\", \"Anne\"]\n",
    "family = [\"Jen\", \"Charlie\"]\n",
    "\n",
    "user_name = input(\"Enter your name: \")\n",
    "\n",
    "if user_name in friends: # If can have the iteration operations by using in\n",
    "    print(\"Hello, friend!\")\n",
    "elif user_name in family:\n",
    "    print(\"Hello, family!\")\n",
    "else:\n",
    "    print(\"I don't know you.\")"
   ]
  },
  {
   "cell_type": "markdown",
   "metadata": {},
   "source": [
    "## While loops\n",
    "- When to use? When you want to repeat something an undefined number of times. For example, until a user tells you to stop or some other condition becomes False."
   ]
  },
  {
   "cell_type": "markdown",
   "metadata": {},
   "source": [
    "-- Infinite loop --"
   ]
  },
  {
   "cell_type": "code",
   "execution_count": null,
   "metadata": {},
   "outputs": [],
   "source": [
    "is_learning = True\n",
    "\n",
    "while is_learning:\n",
    "    print(\"You're learning!\")"
   ]
  },
  {
   "cell_type": "markdown",
   "metadata": {},
   "source": [
    "-- Ending a loop with user input --"
   ]
  },
  {
   "cell_type": "code",
   "execution_count": null,
   "metadata": {},
   "outputs": [],
   "source": [
    "user_input = input(\"Do you wish to run the program? (yes/no): \")\n",
    "\n",
    "while user_input == \"yes\":\n",
    "    print(\"We're running!\")\n",
    "    user_input = input(\"Do you wish to run the program? (yes/no): \")\n",
    "\n",
    "print(\"We stopped running.\")"
   ]
  },
  {
   "cell_type": "markdown",
   "metadata": {},
   "source": [
    "-- Using an else clause with loops --\n",
    "- The else clause in the context of loops is a little bit weird, and it doesn't seem to make a lot of sense. It's certainly not as intuitive as it is with an if statement. I think it's worth thinking about else as a \"no break\" clause when we use it with loops.\n",
    "- The reason I say it's good to think about else as meaning \"no break\", is because an else clause attached to a loop will only run if a break statement wasn't encountered during the execution of that loop."
   ]
  },
  {
   "cell_type": "code",
   "execution_count": null,
   "metadata": {},
   "outputs": [],
   "source": [
    "# Get a number to test from the user\n",
    "dividend = int(input(\"Please enter a number: \"))\n",
    "\n",
    "# Grab numbers one at a time from the range sequence\n",
    "for divisor in range(2, dividend):\n",
    "    # If user's number is divisible by the curent divisor, break the loop\n",
    "    if dividend % divisor == 0:\n",
    "        print(f\"{dividend} is not prime!\")\n",
    "        break\n",
    "else:\n",
    "    # This line only runs if no divisors produced integer results\n",
    "    print(f\"{dividend} is prime!\")"
   ]
  },
  {
   "cell_type": "code",
   "execution_count": null,
   "metadata": {},
   "outputs": [],
   "source": [
    "# Get a number to test from the user, and set the initial divisor to 2\n",
    "dividend = int(input(\"Please enter a number: \"))\n",
    "divisor = 2\n",
    "\n",
    "# Keep looping until the divisor equals the number we're testing\n",
    "while divisor < dividend:\n",
    "    # If user's number is divisible by the curent divisor, break the loop\n",
    "    if dividend % divisor == 0:\n",
    "        print(f\"{dividend} is not prime!\")\n",
    "        break\n",
    "\n",
    "    # Increment the divisor for the next iteration\n",
    "    divisor = divisor + 1\n",
    "else:\n",
    "    # This line only runs if no divisors produced integer results\n",
    "    print(f\"{dividend} is prime!\")"
   ]
  },
  {
   "cell_type": "markdown",
   "metadata": {},
   "source": [
    "## For loops\n",
    "\n",
    "- https://www.teclado.com/30-days-of-python/python-30-day-6-for-loops\n",
    "- A for loop in Python is a means of performing some set of operations for each item in a collection, or more generally, an iterable. \n",
    "- When to use? When you want to repeat something a defined number of times. For example, once for each element of a list, or even just \"10 times\""
   ]
  },
  {
   "cell_type": "code",
   "execution_count": 11,
   "metadata": {},
   "outputs": [
    {
     "name": "stdout",
     "output_type": "stream",
     "text": [
      "Rolf\n",
      "Jen\n",
      "Anne\n"
     ]
    }
   ],
   "source": [
    "# -- Repeat once for each element of an iterable --\n",
    "\n",
    "friends = [\"Rolf\", \"Jen\", \"Anne\"]\n",
    "\n",
    "for friend in friends:\n",
    "    print(friend)"
   ]
  },
  {
   "cell_type": "code",
   "execution_count": 13,
   "metadata": {},
   "outputs": [
    {
     "name": "stdout",
     "output_type": "stream",
     "text": [
      "0\n",
      "Hello\n",
      "1\n",
      "Hello\n",
      "2\n",
      "Hello\n",
      "3\n",
      "Hello\n",
      "4\n",
      "Hello\n"
     ]
    }
   ],
   "source": [
    "# -- Repeating something 10 times --\n",
    "# You must create a \"list-like\" thing containing 10 elements.\n",
    "# You can do this with a plain list:\n",
    "\n",
    "elements = [0, 1, 2, 3,4]\n",
    "\n",
    "for index in elements:\n",
    "    print(index)\n",
    "    print(\"Hello\")"
   ]
  },
  {
   "cell_type": "code",
   "execution_count": null,
   "metadata": {},
   "outputs": [],
   "source": [
    "# But Python comes with a function for that already, which is even more powerful than just doing that.\n",
    "\n",
    "for index in range(3):\n",
    "    print(index)\n",
    "\n",
    "for index in range(5, 10): # only include 5 to 9 \n",
    "    print(index)\n",
    "\n",
    "for index in range(2, 20, 3):\n",
    "    print(index)\n"
   ]
  },
  {
   "cell_type": "code",
   "execution_count": 14,
   "metadata": {},
   "outputs": [
    {
     "name": "stdout",
     "output_type": "stream",
     "text": [
      "Rolf has a grade of 90.\n",
      "Bob has a grade of 78.\n",
      "Jen has a grade of 100.\n",
      "Anne has a grade of 80.\n"
     ]
    }
   ],
   "source": [
    "# -- Using each value while you iterate --\n",
    "\n",
    "students = [\n",
    "    {\"name\": \"Rolf\", \"grade\": 90},\n",
    "    {\"name\": \"Bob\", \"grade\": 78},\n",
    "    {\"name\": \"Jen\", \"grade\": 100},\n",
    "    {\"name\": \"Anne\", \"grade\": 80},\n",
    "]\n",
    "\n",
    "for student in students:  # student is a variable used for iteration\n",
    "    name = student[\"name\"] # you don't have to write it as students[student][\"name\"]\n",
    "    grade = student[\"grade\"]\n",
    "    print(f\"{name} has a grade of {grade}.\")"
   ]
  },
  {
   "cell_type": "code",
   "execution_count": 10,
   "metadata": {},
   "outputs": [
    {
     "name": "stdout",
     "output_type": "stream",
     "text": [
      "Hello!\n",
      "Hello!\n",
      "Hello!\n"
     ]
    }
   ],
   "source": [
    "\"\"\"\n",
    "Sometimes you're going to encounter loops with _ as the loop variable. \n",
    "This is perfectly legal, because _ is a valid variable name, and Python therefore won't complain.\n",
    "While this is legal, please don't use _ in place of good descriptive names. \n",
    "It serves a specific purpose, which is to indicate to readers that the loop variable is not actually being used in the loop body.\n",
    "A good time to use _ as a loop variable is in situations like this:\n",
    "\"\"\"\n",
    "\n",
    "for _ in range(3):\n",
    "    print(\"Hello!\")"
   ]
  }
 ],
 "metadata": {
  "kernelspec": {
   "display_name": "Python 3",
   "language": "python",
   "name": "python3"
  },
  "language_info": {
   "codemirror_mode": {
    "name": "ipython",
    "version": 3
   },
   "file_extension": ".py",
   "mimetype": "text/x-python",
   "name": "python",
   "nbconvert_exporter": "python",
   "pygments_lexer": "ipython3",
   "version": "3.7.6"
  }
 },
 "nbformat": 4,
 "nbformat_minor": 4
}
