{
 "cells": [
  {
   "cell_type": "markdown",
   "metadata": {},
   "source": [
    "# Booleans"
   ]
  },
  {
   "cell_type": "code",
   "execution_count": 2,
   "metadata": {},
   "outputs": [],
   "source": [
    "\"\"\"\n",
    "A Boolean is a true/false, yes/no, one/zero value.\n",
    "We can use it to make decisions.\n",
    "In Python, True and False are keywords to represent these values.\n",
    "\"\"\"\n",
    "\n",
    "truthy = True\n",
    "falsy = False\n",
    "\n",
    "# ----\n",
    "\n",
    "age = 20\n",
    "is_over_age = age >= 18 # Just assign value to the variable...\n",
    "is_under_age = age < 18\n",
    "is_twenty = age == 20\n"
   ]
  },
  {
   "cell_type": "code",
   "execution_count": 4,
   "metadata": {},
   "outputs": [
    {
     "data": {
      "text/plain": [
       "True"
      ]
     },
     "execution_count": 4,
     "metadata": {},
     "output_type": "execute_result"
    }
   ],
   "source": [
    "age = 20\n",
    "is_over_age = age >= 18\n",
    "is_over_age"
   ]
  },
  {
   "cell_type": "code",
   "execution_count": 5,
   "metadata": {},
   "outputs": [
    {
     "name": "stdout",
     "output_type": "stream",
     "text": [
      "Enter your number: 4\n",
      "False\n"
     ]
    }
   ],
   "source": [
    "\"\"\"\n",
    "Other symbols are > and <=.\n",
    "\n",
    "We can of course compare two variables, as below. \n",
    "We ask the user for a number, and check that it matches our 'secret number'.\n",
    "\"\"\"\n",
    "\n",
    "my_number=5\n",
    "user_number = int(input(\"Enter your number: \"))\n",
    "print(my_number==user_number)\n",
    "# print(my_number != user_number)"
   ]
  },
  {
   "cell_type": "code",
   "execution_count": 6,
   "metadata": {},
   "outputs": [
    {
     "name": "stdout",
     "output_type": "stream",
     "text": [
      "Enter your number: 5\n",
      "You got it right: True\n"
     ]
    }
   ],
   "source": [
    "\n",
    "my_number=5\n",
    "user_number = int(input(\"Enter your number: \"))\n",
    "\n",
    "matches= my_number == user_number\n",
    "print(f\"You got it right: {matches}\")\n",
    "#print(\"You got it right: {}\".format(matches))"
   ]
  },
  {
   "cell_type": "markdown",
   "metadata": {},
   "source": [
    "## And & or in Python\n",
    "https://blog.teclado.com/logical-comparisons-in-python-and-or/"
   ]
  },
  {
   "cell_type": "code",
   "execution_count": 7,
   "metadata": {},
   "outputs": [
    {
     "name": "stdout",
     "output_type": "stream",
     "text": [
      "Enter your age: 27\n",
      "You can learn programming: True\n"
     ]
    }
   ],
   "source": [
    "# Python has two keywords, `and` and `or`\n",
    "# Here's how to use them:\n",
    "\n",
    "age = int(input(\"Enter your age: \"))\n",
    "can_learn_programming = age > 0 and age < 150\n",
    "\n",
    "print(f\"You can learn programming: {can_learn_programming}\")"
   ]
  },
  {
   "cell_type": "code",
   "execution_count": 8,
   "metadata": {},
   "outputs": [
    {
     "name": "stdout",
     "output_type": "stream",
     "text": [
      "Enter your age: 31\n",
      "At 31, you are usually not working: False\n"
     ]
    }
   ],
   "source": [
    "# -- or --\n",
    "\n",
    "age = int(input(\"Enter your age: \"))\n",
    "usually_not_working = age < 18 or age > 65\n",
    "\n",
    "print(f\"At {age}, you are usually not working: {usually_not_working}\")"
   ]
  },
  {
   "cell_type": "code",
   "execution_count": 9,
   "metadata": {},
   "outputs": [
    {
     "name": "stdout",
     "output_type": "stream",
     "text": [
      "Enter your age: 31\n",
      "At 31, you are usually working: True\n"
     ]
    }
   ],
   "source": [
    "# In programming, working with negatives is an added strain on your brain that you want to avoid generally. \n",
    "# That could be better re-written to:\n",
    "\n",
    "age = int(input(\"Enter your age: \"))\n",
    "usually_working = age > 17 and age < 66  # Notice the changes to the numbers!\n",
    "\n",
    "print(f\"At {age}, you are usually working: {usually_working}\")"
   ]
  },
  {
   "cell_type": "code",
   "execution_count": 10,
   "metadata": {},
   "outputs": [
    {
     "name": "stdout",
     "output_type": "stream",
     "text": [
      "True\n",
      "True\n",
      "False\n",
      "False\n"
     ]
    }
   ],
   "source": [
    "# How to tell if a value is \"truthy\" or \"falsy\"?\n",
    "# Pass it through `bool()`.\n",
    "\n",
    "print(bool(35))\n",
    "print(bool(\"Rolf\"))\n",
    "print(bool(0))\n",
    "print(bool(\"\"))"
   ]
  },
  {
   "cell_type": "markdown",
   "metadata": {},
   "source": [
    " How they work internally\n",
    "#`and` gives you the first value if it is falsy, otherwise gives you the second value\n",
    "#`or` gives you the first value if it is truthy, otherwise gives you the second value"
   ]
  },
  {
   "cell_type": "code",
   "execution_count": 11,
   "metadata": {},
   "outputs": [
    {
     "name": "stdout",
     "output_type": "stream",
     "text": [
      "0\n",
      "0\n",
      "35\n",
      "35\n"
     ]
    }
   ],
   "source": [
    "x = 0 and 35\n",
    "print(x)\n",
    "\n",
    "\n",
    "x = 35 and 0\n",
    "print(x)\n",
    "\n",
    "x = 0 or 35\n",
    "print(x)\n",
    "\n",
    "\n",
    "x = 35 or 0\n",
    "print(x)"
   ]
  },
  {
   "cell_type": "code",
   "execution_count": null,
   "metadata": {},
   "outputs": [],
   "source": [
    "# More examples linked in the resources section of the lecture\n",
    "\n",
    "# --\n",
    "\n",
    "print(\"\" or \"Rolf\")  # Rolf, because \"\" is falsy\n",
    "print(\"\" and \"Rolf\")  # \"\", because it is falsy\n",
    "\n",
    "print(\"Rolf\" or \"\")  # \"Rolf\", because it is truthy\n",
    "print(\"Rolf\" and \"\")  # \"\", because \"Rolf\" is not falsy"
   ]
  },
  {
   "cell_type": "code",
   "execution_count": 12,
   "metadata": {},
   "outputs": [
    {
     "name": "stdout",
     "output_type": "stream",
     "text": [
      "False\n"
     ]
    }
   ],
   "source": [
    "print(not 45)"
   ]
  },
  {
   "cell_type": "code",
   "execution_count": 13,
   "metadata": {},
   "outputs": [
    {
     "name": "stdout",
     "output_type": "stream",
     "text": [
      "Object `segment` not found.\n"
     ]
    },
    {
     "data": {
      "text/plain": [
       "18"
      ]
     },
     "execution_count": 13,
     "metadata": {},
     "output_type": "execute_result"
    }
   ],
   "source": [
    "# What would the value of cmp be at the end of this code segment?\n",
    "\n",
    "x = True\n",
    "cmp = x and 18\n",
    "cmp\n",
    "## If the value on the left of the `and` operator is truthy, we get the value on the right of the operator."
   ]
  },
  {
   "cell_type": "code",
   "execution_count": 15,
   "metadata": {},
   "outputs": [
    {
     "name": "stdout",
     "output_type": "stream",
     "text": [
      "Enter your age: 16\n",
      "True\n"
     ]
    }
   ],
   "source": [
    "#What would the output of this code be? Imagine the user enters 16.\n",
    "\n",
    "age = int(input(\"Enter your age: \"))\n",
    "side_job = True\n",
    "print(age > 18 and age < 65 or side_job)\n"
   ]
  },
  {
   "cell_type": "markdown",
   "metadata": {},
   "source": [
    "The conditionals evaluate first, and then `and` and `or` evaluate left to right. That means that we are evaluating `False and True or True`. Since we evaluate left to right, `False and True` give us `False`. We are left with `False or True`, which gives us `True`."
   ]
  },
  {
   "cell_type": "markdown",
   "metadata": {},
   "source": [
    "# Lists\n",
    " - https://blog.teclado.com/python-extending-lists/\n",
    " - https://www.teclado.com/30-days-of-python/python-30-day-4-lists-tuples"
   ]
  },
  {
   "cell_type": "markdown",
   "metadata": {},
   "source": [
    "Simply put, lists are containers for other values. Unlike strings, which are collections of just characters, lists can store whatever values we like. We can even mix different types of values if we want.\n",
    "\n",
    "We define a list using square brackets like this:"
   ]
  },
  {
   "cell_type": "code",
   "execution_count": null,
   "metadata": {},
   "outputs": [],
   "source": [
    "names = [\"John\", \"Alice\", \"Sarah\", \"George\"]"
   ]
  },
  {
   "cell_type": "code",
   "execution_count": 25,
   "metadata": {},
   "outputs": [
    {
     "name": "stdout",
     "output_type": "stream",
     "text": [
      "Rolf\n",
      "Bob\n"
     ]
    }
   ],
   "source": [
    "friend1 = \"Rolf\"\n",
    "friend2 = \"Bob\"\n",
    "friend3 = \"Anne\"\n",
    "\n",
    "friends = [\"Rolf\", \"Bob\", \"Anne\"]\n",
    "\n",
    "print(friends[0])  # This is called a subscript\n",
    "print(friends[1])"
   ]
  },
  {
   "cell_type": "code",
   "execution_count": null,
   "metadata": {},
   "outputs": [],
   "source": [
    "# You can put anything you like inside a list, but it's almost always a good idea to keep it homogeneous.\n",
    "\n",
    "friends = [\"Rolf\", 2, \"Anne\"]  # Generally a bad idea`"
   ]
  },
  {
   "cell_type": "code",
   "execution_count": null,
   "metadata": {},
   "outputs": [],
   "source": [
    "# -- Length of a list --\n",
    "\n",
    "friends = [\"Rolf\", \"Anne\"]\n",
    "print(len(friends))  # 2"
   ]
  },
  {
   "cell_type": "code",
   "execution_count": 26,
   "metadata": {},
   "outputs": [
    {
     "name": "stdout",
     "output_type": "stream",
     "text": [
      "['Rolf', 24]\n",
      "24\n",
      "Bob\n"
     ]
    }
   ],
   "source": [
    "# -- Lists inside lists --\n",
    "# As mentioned earlier, you can put anything inside a list—and that includes other lists.\n",
    "# Each value in a list is indexed according to its position in the list. \n",
    "    # The item in the first position is at index 0; the item at the second position is at index 1; and so on.\n",
    "\n",
    "friends = [[\"Rolf\", 24], [\"Bob\", 30], [\"Anne\", 27]]\n",
    "print(friends[0]) \n",
    "print(friends[0][1])  # 24\n",
    "print(friends[1][0])  # Bob"
   ]
  },
  {
   "cell_type": "code",
   "execution_count": null,
   "metadata": {},
   "outputs": [],
   "source": [
    "# -- Long lists --\n",
    "\n",
    "friends = [\n",
    "    [\"Rolf\", 24],\n",
    "    [\"Bob\", 30],\n",
    "    [\"Anne\", 27],\n",
    "    [\"Charlie\", 37],\n",
    "    [\"Jen\", 25],\n",
    "    [\"Adam\", 29],\n",
    "]"
   ]
  },
  {
   "cell_type": "code",
   "execution_count": 27,
   "metadata": {},
   "outputs": [
    {
     "name": "stdout",
     "output_type": "stream",
     "text": [
      "['Rolf', 'Bob', 'Anne', 'Jen']\n"
     ]
    }
   ],
   "source": [
    "# -- Adding to a list --\n",
    "# One neat feature of lists is that they’re mutable: we can change the values inside. \n",
    "    # This means we can add values, remove them, replace them, reorder them, etc.\n",
    "\n",
    "friends = [\"Rolf\", \"Bob\", \"Anne\"]\n",
    "friends.append(\"Jen\")\n",
    "\n",
    "print(friends)  # [\"Rolf\", \"Bob\", \"Anne\", \"Jen\"]"
   ]
  },
  {
   "cell_type": "code",
   "execution_count": 28,
   "metadata": {},
   "outputs": [
    {
     "name": "stdout",
     "output_type": "stream",
     "text": [
      "['Rolf', 'Anne', 'Jen']\n"
     ]
    }
   ],
   "source": [
    "# -- Removing from a list --\n",
    "\n",
    "friends.remove(\"Bob\")\n",
    "print(friends)  # [\"Rolf\", \"Anne\", \"Jen\"]"
   ]
  },
  {
   "cell_type": "code",
   "execution_count": 30,
   "metadata": {},
   "outputs": [
    {
     "data": {
      "text/plain": [
       "[['Rolf', 24], ['Anne', 27]]"
      ]
     },
     "execution_count": 30,
     "metadata": {},
     "output_type": "execute_result"
    }
   ],
   "source": [
    "# Remember if you have a list of lists, for example, you still need the entire thing you want to remove:\n",
    "\n",
    "friends = [[\"Rolf\", 24], [\"Bob\", 30], [\"Anne\", 27]]\n",
    "\n",
    "friends.remove([\"Bob\", 30])\n",
    "\n",
    "friends"
   ]
  },
  {
   "cell_type": "markdown",
   "metadata": {},
   "source": [
    " -- extend --\n",
    "- extend is a lot like the append method, but instead of adding a single value, extend allows us to append several elements to the end of a given list object."
   ]
  },
  {
   "cell_type": "code",
   "execution_count": 23,
   "metadata": {},
   "outputs": [
    {
     "name": "stdout",
     "output_type": "stream",
     "text": [
      "[1, 2, 3, 4, 5, 6, 7, 8]\n"
     ]
    }
   ],
   "source": [
    "l_1 = [1, 2, 3, 4]\n",
    "l_2 = [5, 6, 7, 8]\n",
    "\n",
    "# We're going to use extend to add the values from l_2 onto the end of l_1:\n",
    "l_1.extend(l_2)\n",
    "\n",
    "print(l_1)"
   ]
  },
  {
   "cell_type": "markdown",
   "metadata": {},
   "source": [
    "Well, extend can accept any iterable, while using something like + to perform concatenation only works when both objects are lists. So we can do this:"
   ]
  },
  {
   "cell_type": "code",
   "execution_count": 24,
   "metadata": {},
   "outputs": [
    {
     "name": "stdout",
     "output_type": "stream",
     "text": [
      "[1, 2, 3, 4, 5, 6]\n"
     ]
    }
   ],
   "source": [
    "print([1, 2, 3] + [4, 5, 6])"
   ]
  },
  {
   "cell_type": "markdown",
   "metadata": {},
   "source": [
    " -- insert --\n",
    "\n",
    "- These are all great for adding an item to the end of a list, but what if we want to add an item in the middle?  For that, we have the insert method.\n",
    "- insert is a little more complicated than the options we’ve looked at so far, as it needs two pieces of information. First we need to tell it where we want to insert the value, and second we need to tell it what we want to insert.\n",
    "\n",
    "For example, let’s say we have a list like this:"
   ]
  },
  {
   "cell_type": "code",
   "execution_count": 16,
   "metadata": {},
   "outputs": [],
   "source": [
    "numbers = [1, 2, 4, 5]"
   ]
  },
  {
   "cell_type": "markdown",
   "metadata": {},
   "source": [
    "At the moment, we’re missing the value 3 in this sequence, and we want to insert this value at index 2. We therefore need to call insert like so:"
   ]
  },
  {
   "cell_type": "code",
   "execution_count": 17,
   "metadata": {},
   "outputs": [
    {
     "name": "stdout",
     "output_type": "stream",
     "text": [
      "[1, 2, 3, 4, 5]\n"
     ]
    }
   ],
   "source": [
    "numbers = [1, 2, 4, 5]\n",
    "numbers.insert(2, 3)\n",
    "\n",
    "print(numbers) "
   ]
  },
  {
   "cell_type": "markdown",
   "metadata": {},
   "source": [
    "One thing you may be wondering is, what happens if we specify an index outside of the defined list? Python just puts the item as the end instead:"
   ]
  },
  {
   "cell_type": "code",
   "execution_count": 18,
   "metadata": {},
   "outputs": [
    {
     "name": "stdout",
     "output_type": "stream",
     "text": [
      "[1, 2, 4, 5, 3]\n"
     ]
    }
   ],
   "source": [
    "numbers = [1, 2, 4, 5]\n",
    "numbers.insert(7, 3)\n",
    "\n",
    "print(numbers) "
   ]
  },
  {
   "cell_type": "markdown",
   "metadata": {},
   "source": [
    "First, we can use the del keyword. del can be used to delete anything we want, including a whole list, but if we use a subscription expression, we can use it to remove an item at a specific index."
   ]
  },
  {
   "cell_type": "code",
   "execution_count": 19,
   "metadata": {},
   "outputs": [
    {
     "name": "stdout",
     "output_type": "stream",
     "text": [
      "['Sarah', 'Alice', 'Mike']\n"
     ]
    }
   ],
   "source": [
    "names = [\"John\", \"Sarah\", \"Alice\", \"Mike\"]\n",
    "del names[0]\n",
    "\n",
    "print(names)"
   ]
  },
  {
   "cell_type": "markdown",
   "metadata": {},
   "source": [
    "The main alternative we have to using del is pop. By default pop is going to remove the last item in the list, but we can optionally pass in an index as an argument to remove a different item instead."
   ]
  },
  {
   "cell_type": "code",
   "execution_count": 20,
   "metadata": {},
   "outputs": [
    {
     "name": "stdout",
     "output_type": "stream",
     "text": [
      "['John', 'Sarah', 'Alice']\n",
      "['John', 'Alice']\n"
     ]
    }
   ],
   "source": [
    "names = [\"John\", \"Sarah\", \"Alice\", \"Mike\"]\n",
    "names.pop()\n",
    "\n",
    "print(names)  # ['John', 'Sarah', 'Alice']\n",
    "\n",
    "names.pop(1)\n",
    "\n",
    "print(names) "
   ]
  }
 ],
 "metadata": {
  "kernelspec": {
   "display_name": "Python 3",
   "language": "python",
   "name": "python3"
  },
  "language_info": {
   "codemirror_mode": {
    "name": "ipython",
    "version": 3
   },
   "file_extension": ".py",
   "mimetype": "text/x-python",
   "name": "python",
   "nbconvert_exporter": "python",
   "pygments_lexer": "ipython3",
   "version": "3.7.6"
  }
 },
 "nbformat": 4,
 "nbformat_minor": 4
}
