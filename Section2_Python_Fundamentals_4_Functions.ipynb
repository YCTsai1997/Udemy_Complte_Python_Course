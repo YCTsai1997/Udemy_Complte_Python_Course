{
 "cells": [
  {
   "cell_type": "markdown",
   "id": "33a4455a",
   "metadata": {},
   "source": [
    "## Functions\n",
    "- https://www.teclado.com/30-days-of-python/python-30-day-12-functions"
   ]
  },
  {
   "cell_type": "code",
   "execution_count": 1,
   "id": "57db20ce",
   "metadata": {},
   "outputs": [],
   "source": [
    "# So far we've been using functions such as `print`, `len`, and `zip`.\n",
    "# But we haven't learned how to create our own functions, or even how they really work.\n",
    "\n",
    "# Let's create our own function. The building blocks are:\n",
    "# def\n",
    "# the name\n",
    "# brackets\n",
    "# colon\n",
    "# any code you want, but it must be indented if you want it to run as part of the function.\n",
    "\n",
    "def greet():\n",
    "    name = input(\"Enter your name: \")\n",
    "    print(f\"Hello, {name}!\")"
   ]
  },
  {
   "cell_type": "code",
   "execution_count": 2,
   "id": "edd558ac",
   "metadata": {},
   "outputs": [
    {
     "name": "stdout",
     "output_type": "stream",
     "text": [
      "Enter your name: Yi\n",
      "Hello, Yi!\n"
     ]
    }
   ],
   "source": [
    "# Running this does nothing, because although we have defined a function, we haven't executed it.\n",
    "# We must execute the function in order for its contents to run.\n",
    "\n",
    "greet()"
   ]
  },
  {
   "cell_type": "code",
   "execution_count": null,
   "id": "f7229130",
   "metadata": {},
   "outputs": [],
   "source": [
    "# You can put as much or as little code as you want inside a function, but prefer shorter functions over longer ones.\n",
    "# You'll usually be putting code that you want to reuse inside functions.\n",
    "\n",
    "# Any variables declared inside the function are not accessible outside it.\n",
    "print(name)  # ERROR!"
   ]
  },
  {
   "cell_type": "markdown",
   "id": "1bec5440",
   "metadata": {},
   "source": [
    "## Arguments and parameters"
   ]
  },
  {
   "cell_type": "code",
   "execution_count": 3,
   "id": "07825bb3",
   "metadata": {},
   "outputs": [
    {
     "name": "stdout",
     "output_type": "stream",
     "text": [
      "Ford Fiesta does 50.0 miles per gallon.\n"
     ]
    }
   ],
   "source": [
    "# Imagine you've got some code that calculates the fuel efficiency of a car:\n",
    "\n",
    "car = {\"make\": \"Ford\", \"model\": \"Fiesta\", \"mileage\": 23000, \"fuel_consumed\": 460}\n",
    "\n",
    "mpg = car[\"mileage\"] / car[\"fuel_consumed\"]\n",
    "name = f\"{car['make']} {car['model']}\"\n",
    "print(f\"{name} does {mpg} miles per gallon.\")"
   ]
  },
  {
   "cell_type": "code",
   "execution_count": 4,
   "id": "32f5c5e1",
   "metadata": {},
   "outputs": [
    {
     "name": "stdout",
     "output_type": "stream",
     "text": [
      "Ford Fiesta does 50.0 miles per gallon.\n"
     ]
    }
   ],
   "source": [
    "def calculate_mpg():\n",
    "    car = {\"make\": \"Ford\", \"model\": \"Fiesta\", \"mileage\": 23000, \"fuel_consumed\": 460}\n",
    "\n",
    "    mpg = car[\"mileage\"] / car[\"fuel_consumed\"]\n",
    "    name = f\"{car['make']} {car['model']}\"\n",
    "    print(f\"{name} does {mpg} miles per gallon.\")\n",
    "\n",
    "\n",
    "calculate_mpg()"
   ]
  },
  {
   "cell_type": "code",
   "execution_count": 7,
   "id": "497f4165",
   "metadata": {},
   "outputs": [
    {
     "name": "stdout",
     "output_type": "stream",
     "text": [
      "Ford Fiesta does 50.0 miles per gallon.\n"
     ]
    }
   ],
   "source": [
    "# But this is not a very reusable function since it only calculates the mpg of a single car.\n",
    "# What if we made it calculate the mpg of \"any\" arbitrary car?\n",
    "\n",
    "car = {\"make\": \"Ford\", \"model\": \"Fiesta\", \"mileage\": 23000, \"fuel_consumed\": 460}\n",
    "\n",
    "def calculate_mpg(car_to_calculate):  # This can be renamed to `car`\n",
    "    mpg = round(car_to_calculate[\"mileage\"] / car_to_calculate[\"fuel_consumed\"],2)\n",
    "    name = f\"{car_to_calculate['make']} {car_to_calculate['model']}\"\n",
    "    print(f\"{name} does {mpg} miles per gallon.\")\n",
    "\n",
    "\n",
    "calculate_mpg(car)"
   ]
  },
  {
   "cell_type": "code",
   "execution_count": 8,
   "id": "e978587c",
   "metadata": {},
   "outputs": [
    {
     "name": "stdout",
     "output_type": "stream",
     "text": [
      "Ford Fiesta does 50.0 miles per gallon.\n",
      "Ford Focus does 48.57 miles per gallon.\n",
      "Mazda MX-5 does 54.44 miles per gallon.\n",
      "Mini Cooper does 131.91 miles per gallon.\n"
     ]
    }
   ],
   "source": [
    "# This means that given a list of cars with the correct data format, we can run the function for all of them!\n",
    "\n",
    "cars = [\n",
    "    {\"make\": \"Ford\", \"model\": \"Fiesta\", \"mileage\": 23000, \"fuel_consumed\": 460},\n",
    "    {\"make\": \"Ford\", \"model\": \"Focus\", \"mileage\": 17000, \"fuel_consumed\": 350},\n",
    "    {\"make\": \"Mazda\", \"model\": \"MX-5\", \"mileage\": 49000, \"fuel_consumed\": 900},\n",
    "    {\"make\": \"Mini\", \"model\": \"Cooper\", \"mileage\": 31000, \"fuel_consumed\": 235},\n",
    "]\n",
    "\n",
    "for car in cars:\n",
    "    calculate_mpg(car)"
   ]
  },
  {
   "cell_type": "markdown",
   "id": "f9848078",
   "metadata": {},
   "source": [
    "## Return values for functions"
   ]
  },
  {
   "cell_type": "code",
   "execution_count": 11,
   "id": "4dad1846",
   "metadata": {},
   "outputs": [
    {
     "name": "stdout",
     "output_type": "stream",
     "text": [
      "Ford Fiesta does 50.0 miles per gallon.\n",
      "Ford Focus does 48.57 miles per gallon.\n",
      "Mazda MX-5 does 54.44 miles per gallon.\n",
      "Mini Cooper does 131.91 miles per gallon.\n"
     ]
    }
   ],
   "source": [
    "def calculate_mpg(car):\n",
    "    mpg = round(car[\"mileage\"] / car[\"fuel_consumed\"],2)\n",
    "    return mpg  # Ends the function, gives back the value\n",
    "\n",
    "\n",
    "def car_name(car):\n",
    "    return f\"{car['make']} {car['model']}\"\n",
    "\n",
    "\n",
    "def print_car_info(car):\n",
    "    name = car_name(car)\n",
    "    mpg = calculate_mpg(car)\n",
    "\n",
    "    print(f\"{name} does {mpg} miles per gallon.\")\n",
    "    # Returns None by default, as all functions do\n",
    "\n",
    "\n",
    "cars = [\n",
    "    {\"make\": \"Ford\", \"model\": \"Fiesta\", \"mileage\": 23000, \"fuel_consumed\": 460},\n",
    "    {\"make\": \"Ford\", \"model\": \"Focus\", \"mileage\": 17000, \"fuel_consumed\": 350},\n",
    "    {\"make\": \"Mazda\", \"model\": \"MX-5\", \"mileage\": 49000, \"fuel_consumed\": 900},\n",
    "    {\"make\": \"Mini\", \"model\": \"Cooper\", \"mileage\": 31000, \"fuel_consumed\": 235},\n",
    "]\n",
    "\n",
    "for car in cars:\n",
    "    print_car_info(car)\n",
    "    # try print(print_car_info(car)), you'll see None. Because this will extract return value"
   ]
  },
  {
   "cell_type": "code",
   "execution_count": 9,
   "id": "f2c7ce23",
   "metadata": {},
   "outputs": [
    {
     "name": "stdout",
     "output_type": "stream",
     "text": [
      "5.0\n",
      "You tried to divide by zero!\n"
     ]
    }
   ],
   "source": [
    "# -- Multiple returns --\n",
    "\n",
    "\n",
    "def divide(x, y):\n",
    "    if y == 0:\n",
    "        return \"You tried to divide by zero!\"\n",
    "    else:\n",
    "        return x / y\n",
    "\n",
    "\n",
    "print(divide(10, 2))  # 5\n",
    "print(divide(6, 0))  # You tried to divide by zero!"
   ]
  },
  {
   "cell_type": "markdown",
   "id": "3d318775",
   "metadata": {},
   "source": [
    "## Default parameter values"
   ]
  },
  {
   "cell_type": "code",
   "execution_count": 12,
   "id": "a7dfb059",
   "metadata": {},
   "outputs": [
    {
     "name": "stdout",
     "output_type": "stream",
     "text": [
      "8\n",
      "8\n",
      "6\n",
      "7\n"
     ]
    }
   ],
   "source": [
    "def add(x, y=3):  # x=2, y is not OK\n",
    "    total = x + y\n",
    "    print(total)\n",
    "\n",
    "\n",
    "add(5)\n",
    "add(2, 6)\n",
    "add(x=3)\n",
    "add(x=5, y=2)\n",
    "\n",
    "# add(y=2)  # ERROR!\n",
    "# add(x=2, 5)  # ERROR! # if the first one has name, then the second one needs to have name too!"
   ]
  },
  {
   "cell_type": "code",
   "execution_count": 13,
   "id": "27834c0f",
   "metadata": {},
   "outputs": [
    {
     "name": "stdout",
     "output_type": "stream",
     "text": [
      "1 - 2 - 3 - 4 - 5\n",
      "5\n",
      "4\n",
      "5\n"
     ]
    }
   ],
   "source": [
    "# -- More named arguments --\n",
    "\n",
    "print(1, 2, 3, 4, 5, sep=\" - \")  # default is \" \"\n",
    "\n",
    "# You can use almost anything as a default parameter value.\n",
    "# But using variables as default parameter values is discouraged, as that can introduce difficult to spot bugs\n",
    "\n",
    "default_y = 3\n",
    "\n",
    "\n",
    "def add(x, y=default_y): # default value needs go to end! And default_y here is not variable!\n",
    "    sum = x + y\n",
    "    print(sum)\n",
    "\n",
    "\n",
    "add(2)  # 5\n",
    "\n",
    "default_y = 4\n",
    "print(default_y)  # When python define a function, it also stores the default value at the time. \n",
    "                    # so even you changed default_y, the function still took the original value!\n",
    "\n",
    "add(2)  # 5"
   ]
  },
  {
   "cell_type": "code",
   "execution_count": null,
   "id": "42e4a889",
   "metadata": {},
   "outputs": [],
   "source": [
    "\"\"\"\n",
    "Be careful when using lists or dictionaries as default parameter values. \n",
    "Unlike integers or strings, these will update if you modify the original list or dictionary.\n",
    "\n",
    "This is due to a language feature called mutability. \n",
    "It's not important to understand this now\n",
    "    , but just know that they behave differently to integers and strings behind the scenes when you change them.\n",
    "\"\"\""
   ]
  },
  {
   "cell_type": "code",
   "execution_count": 14,
   "id": "4dcbcc0b",
   "metadata": {},
   "outputs": [
    {
     "name": "stdout",
     "output_type": "stream",
     "text": [
      "Hello\n"
     ]
    }
   ],
   "source": [
    "# What would the values of x  and y  be after this segment of code?\n",
    "\n",
    "def hi():\n",
    "    print('Hello')\n",
    " \n",
    "\n",
    "def greet():\n",
    "    return 'Hello'\n",
    " \n",
    "x = hi()\n",
    "y = greet()\n"
   ]
  },
  {
   "cell_type": "markdown",
   "id": "cefd7858",
   "metadata": {},
   "source": [
    "## Lambda functions"
   ]
  },
  {
   "cell_type": "code",
   "execution_count": null,
   "id": "57adcd7d",
   "metadata": {},
   "outputs": [],
   "source": [
    "\"\"\"\n",
    "Lambda functions are functions that are almost solely used to get inputs and return outputs.\n",
    "That means we don't often use them to make actions.\n",
    "For example, the `print()` function is a function that performs an action. \n",
    "As such, it would not be suitable for lambda function.\n",
    "If we wanted a function that just divided two numbers, that might be suitable for a lambda function.\n",
    "\n",
    "That's because that function takes inputs, processes them, and returns outputs. \n",
    "And, it's a short, simple function. You'll see why that is relevant with this example.\n",
    "\n",
    "\"\"\""
   ]
  },
  {
   "cell_type": "code",
   "execution_count": 15,
   "id": "58897a2e",
   "metadata": {},
   "outputs": [],
   "source": [
    "\"\"\"\n",
    "That is a lambda function, which takes two arguments and returns the result of dividing one by the other. \n",
    "It is almost identical to this function:\n",
    "\"\"\"\n",
    "\n",
    "def divide(x, y):\n",
    "    return x / y"
   ]
  },
  {
   "cell_type": "code",
   "execution_count": 16,
   "id": "8a03c2f6",
   "metadata": {},
   "outputs": [
    {
     "name": "stdout",
     "output_type": "stream",
     "text": [
      "5.0\n"
     ]
    }
   ],
   "source": [
    "# In both cases you would call it as a normal function:\n",
    "\n",
    "print(divide(15, 3))"
   ]
  },
  {
   "cell_type": "code",
   "execution_count": 19,
   "id": "051ebadf",
   "metadata": {},
   "outputs": [
    {
     "name": "stdout",
     "output_type": "stream",
     "text": [
      "5.0\n"
     ]
    },
    {
     "data": {
      "text/plain": [
       "\"\\nThis spacing is common. \\nAfter each comma in the parameters, after the colon but not before, \\n    and between operators (though that's optional, and sometimes will be seen without spaces).\\n\""
      ]
     },
     "execution_count": 19,
     "metadata": {},
     "output_type": "execute_result"
    }
   ],
   "source": [
    "divide = lambda x, y: x / y\n",
    "print(divide(15, 3))\n",
    "\n",
    "\"\"\"\n",
    "This spacing is common. \n",
    "After each comma in the parameters, after the colon but not before, \n",
    "    and between operators (though that's optional, and sometimes will be seen without spaces).\n",
    "\"\"\""
   ]
  },
  {
   "cell_type": "code",
   "execution_count": 18,
   "id": "ceb1fd91",
   "metadata": {},
   "outputs": [
    {
     "name": "stdout",
     "output_type": "stream",
     "text": [
      "18\n"
     ]
    }
   ],
   "source": [
    "# While traditional functions _need_ the name (you can't define one without it), \n",
    "    # lambda functions don't have names unless you assign them to a variable.\n",
    "\n",
    "result = (lambda x, y: x + y)(15, 3)\n",
    "print(result)"
   ]
  },
  {
   "cell_type": "code",
   "execution_count": null,
   "id": "ec2732a8",
   "metadata": {},
   "outputs": [],
   "source": [
    "\"\"\"\n",
    "However you can see that lambda functions can be quite difficult to read\n",
    "    , so we won't be using them very often. \n",
    "The main reason to use lambda function is because they are short\n",
    "    , so if we use them in conjunction with other functions that can help make our programs a bit more flexible.\n",
    "\"\"\"\n",
    "\n",
    "# Here's an example. Instead of this:\n",
    "\n",
    "def average(sequence):\n",
    "    return sum(sequence) / len(sequence)\n",
    "\n",
    "\n",
    "students = [\n",
    "    {\"name\": \"Rolf\", \"grades\": (67, 90, 95, 100)},\n",
    "    {\"name\": \"Bob\", \"grades\": (56, 78, 80, 90)},\n",
    "    {\"name\": \"Jen\", \"grades\": (98, 90, 95, 99)},\n",
    "    {\"name\": \"Anne\", \"grades\": (100, 100, 95, 100)},\n",
    "]\n",
    "\n",
    "for student in students:\n",
    "    print(average(student[\"grades\"]))\n"
   ]
  },
  {
   "cell_type": "code",
   "execution_count": null,
   "id": "cb25f0ab",
   "metadata": {},
   "outputs": [],
   "source": [
    "\"\"\"\n",
    "Since the average function just takes inputs and returns an output, we could re-define it as a lambda function.\n",
    "\"\"\"\n",
    "\n",
    "average = lambda sequence: sum(sequence) / len(sequence)\n",
    "\n",
    "students = [\n",
    "    {\"name\": \"Rolf\", \"grades\": (67, 90, 95, 100)},\n",
    "    {\"name\": \"Bob\", \"grades\": (56, 78, 80, 90)},\n",
    "    {\"name\": \"Jen\", \"grades\": (98, 90, 95, 99)},\n",
    "    {\"name\": \"Anne\", \"grades\": (100, 100, 95, 100)},\n",
    "]\n",
    "\n",
    "for student in students:\n",
    "    print(average(student[\"grades\"]))"
   ]
  },
  {
   "cell_type": "markdown",
   "id": "78b463a8",
   "metadata": {},
   "source": [
    "## First class functions in Python\n",
    " -  All functions in Python are just variables, which means you can pass them to other functions as arguments."
   ]
  },
  {
   "cell_type": "code",
   "execution_count": 21,
   "id": "b41eb5db",
   "metadata": {},
   "outputs": [
    {
     "name": "stdout",
     "output_type": "stream",
     "text": [
      "Hello\n"
     ]
    },
    {
     "data": {
      "text/plain": [
       "function"
      ]
     },
     "execution_count": 21,
     "metadata": {},
     "output_type": "execute_result"
    }
   ],
   "source": [
    "def greet():\n",
    "    print(\"Hello\")\n",
    "\n",
    "# if greet did not add brackets, then the function will not be run. Just showing as funtion value itself!\n",
    "    # We can agsign it to a variable, hello! So heeo and greet is the same value. And we can run hello function!\n",
    "hello = greet \n",
    "hello()\n",
    "type(hello)"
   ]
  },
  {
   "cell_type": "code",
   "execution_count": null,
   "id": "eb8594bc",
   "metadata": {},
   "outputs": [],
   "source": [
    "def average(seq):\n",
    "    return sum(seq) / len(seq)"
   ]
  },
  {
   "cell_type": "code",
   "execution_count": 24,
   "id": "6b19c15a",
   "metadata": {},
   "outputs": [
    {
     "name": "stdout",
     "output_type": "stream",
     "text": [
      "Student: Rolf\n",
      " Enter 'average', 'total', or 'top': average\n",
      "88.0\n",
      "Student: Bob\n",
      " Enter 'average', 'total', or 'top': top\n",
      "Student: Jen\n",
      " Enter 'average', 'total', or 'top': total\n",
      "Student: Anne\n",
      " Enter 'average', 'total', or 'top': average\n",
      "98.75\n"
     ]
    }
   ],
   "source": [
    "avg = lambda seq: sum(seq) / len(seq)\n",
    "total = lambda seq: sum(seq)\n",
    "top = lambda seq: max(seq)\n",
    "\n",
    "students = [\n",
    "    {\"name\": \"Rolf\", \"grades\": (67, 90, 95, 100)},\n",
    "    {\"name\": \"Bob\", \"grades\": (56, 78, 80, 90)},\n",
    "    {\"name\": \"Jen\", \"grades\": (98, 90, 95, 99)},\n",
    "    {\"name\": \"Anne\", \"grades\": (100, 100, 95, 100)},\n",
    "]\n",
    "\n",
    "for student in students:\n",
    "    name = student[\"name\"]\n",
    "    grades = student[\"grades\"]\n",
    "    \n",
    "    print(f\"Student: {name}\")\n",
    "    operation = input(\" Enter 'average', 'total', or 'top': \")\n",
    "    \n",
    "    if operation == \"average\":\n",
    "        print(avg(grades))\n",
    "    elif operation == \" total\":\n",
    "        print(total(grades))\n",
    "    elif operation == \"top\":\n",
    "        print(top(grades))\n",
    "    "
   ]
  },
  {
   "cell_type": "code",
   "execution_count": null,
   "id": "d53293b9",
   "metadata": {},
   "outputs": [],
   "source": [
    "# to make it simplier\n",
    "\n",
    "avg = lambda seq: sum(seq) / len(seq)\n",
    "total = lambda seq: sum(seq)\n",
    "top = lambda seq: max(seq)\n",
    "\n",
    "operations = {\n",
    "    \"average\" : avg,\n",
    "    \"total\" : total,\n",
    "    \"top\" : top\n",
    "}\n",
    "\n",
    "\n",
    "students = [\n",
    "    {\"name\": \"Rolf\", \"grades\": (67, 90, 95, 100)},\n",
    "    {\"name\": \"Bob\", \"grades\": (56, 78, 80, 90)},\n",
    "    {\"name\": \"Jen\", \"grades\": (98, 90, 95, 99)},\n",
    "    {\"name\": \"Anne\", \"grades\": (100, 100, 95, 100)},\n",
    "]\n",
    "\n",
    "for student in students:\n",
    "    name = student[\"name\"]\n",
    "    grades = student[\"grades\"]\n",
    "    \n",
    "    print(f\"Student: {name}\")\n",
    "    operation = input(\" Enter 'average', 'total', or 'top': \")\n",
    "    \n",
    "    operation_function = operations[operation]  # This to get a function!\n",
    "    print(operation_function(grades))\n",
    "    "
   ]
  },
  {
   "cell_type": "code",
   "execution_count": null,
   "id": "4badebd8",
   "metadata": {},
   "outputs": [],
   "source": [
    "# to make it simplier\n",
    "\n",
    "avg = lambda seq: sum(seq) / len(seq)\n",
    "total = sum\n",
    "top = max\n",
    "\n",
    "operations = {\n",
    "    \"average\" : avg,\n",
    "    \"total\" : total,\n",
    "    \"top\" : top\n",
    "}\n",
    "\n",
    "\n",
    "students = [\n",
    "    {\"name\": \"Rolf\", \"grades\": (67, 90, 95, 100)},\n",
    "    {\"name\": \"Bob\", \"grades\": (56, 78, 80, 90)},\n",
    "    {\"name\": \"Jen\", \"grades\": (98, 90, 95, 99)},\n",
    "    {\"name\": \"Anne\", \"grades\": (100, 100, 95, 100)},\n",
    "]\n",
    "\n",
    "for student in students:\n",
    "    name = student[\"name\"]\n",
    "    grades = student[\"grades\"]\n",
    "    \n",
    "    print(f\"Student: {name}\")\n",
    "    operation = input(\" Enter 'average', 'total', or 'top': \")\n",
    "    \n",
    "    operation_function = operations[operation]  # This to get a function!\n",
    "    print(operation_function(grades))\n",
    "    "
   ]
  },
  {
   "cell_type": "code",
   "execution_count": 25,
   "id": "5219c669",
   "metadata": {},
   "outputs": [
    {
     "name": "stdout",
     "output_type": "stream",
     "text": [
      "True\n"
     ]
    }
   ],
   "source": [
    "def over_age(data, getter):\n",
    "    return getter(data) >= 18\n",
    " \n",
    "user = { 'username': 'rolf123', 'age': '35' }\n",
    " \n",
    "print(over_age(user, lambda x: int(x['age'])))\n"
   ]
  },
  {
   "cell_type": "code",
   "execution_count": 30,
   "id": "3f6fa5bc",
   "metadata": {},
   "outputs": [
    {
     "name": "stdout",
     "output_type": "stream",
     "text": [
      "<function <lambda> at 0x7fddcbd58b80>\n"
     ]
    }
   ],
   "source": [
    "# This use the not that okay code. define the funtion, then add the parameter after\n",
    "print(lambda x: int(x['age'])(user)) "
   ]
  },
  {
   "cell_type": "code",
   "execution_count": null,
   "id": "c810def6",
   "metadata": {},
   "outputs": [],
   "source": []
  }
 ],
 "metadata": {
  "kernelspec": {
   "display_name": "Python 3",
   "language": "python",
   "name": "python3"
  },
  "language_info": {
   "codemirror_mode": {
    "name": "ipython",
    "version": 3
   },
   "file_extension": ".py",
   "mimetype": "text/x-python",
   "name": "python",
   "nbconvert_exporter": "python",
   "pygments_lexer": "ipython3",
   "version": "3.8.8"
  }
 },
 "nbformat": 4,
 "nbformat_minor": 5
}
